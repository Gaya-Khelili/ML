{
 "cells": [
  {
   "cell_type": "code",
   "execution_count": 1,
   "metadata": {},
   "outputs": [],
   "source": [
    "import numpy as np\n",
    "import pandas as pd\n",
    "from sklearn.model_selection import train_test_split\n",
    "from sklearn.preprocessing import MinMaxScaler, StandardScaler\n",
    "from sklearn.metrics import classification_report\n",
    "from sklearn.svm import OneClassSVM\n",
    "from sklearn.pipeline import Pipeline\n",
    "import os\n",
    "import glob\n",
    "import csv\n",
    "import seaborn as sns\n",
    "import matplotlib.pyplot as plt"
   ]
  },
  {
   "cell_type": "code",
   "execution_count": 7,
   "metadata": {},
   "outputs": [],
   "source": [
    "os.chdir(\"D:/Data\")\n",
    "csv_data_path = 'D:/Data/'"
   ]
  },
  {
   "cell_type": "code",
   "execution_count": 8,
   "metadata": {},
   "outputs": [],
   "source": [
    "#Create a dataframe and the csv file\n",
    "\n",
    "files = ['02-14-2018.csv',\n",
    "        '02-15-2018.csv',\n",
    "        '02-16-2018.csv',\n",
    "        '02-20-2018.csv',\n",
    "        '02-21-2018.csv',\n",
    "        '02-22-2018.csv',\n",
    "        '02-23-2018.csv',\n",
    "        '02-28-2018.csv',\n",
    "        '03-01-2018.csv',\n",
    "        '03-02-2018.csv']\n"
   ]
  },
  {
   "cell_type": "code",
   "execution_count": 21,
   "metadata": {},
   "outputs": [],
   "source": [
    "def fusionfiles(files):\n",
    "    dfs = []\n",
    "    for i in range (10):\n",
    "        df = pd.read_csv(files[i],nrows=10000)\n",
    "        df = df[['URG Flag Cnt','SYN Flag Cnt','RST Flag Cnt','PSH Flag Cnt','Protocol','Pkt Size Avg','Flow Pkts/s','FIN Flag Cnt','ECE Flag Cnt','ACK Flag Cnt','Dst Port','Label']]\n",
    "        dfs.append(df)\n",
    "    return dfs"
   ]
  },
  {
   "cell_type": "code",
   "execution_count": 22,
   "metadata": {},
   "outputs": [
    {
     "name": "stderr",
     "output_type": "stream",
     "text": [
      "C:\\Users\\hp\\anaconda3\\lib\\site-packages\\IPython\\core\\interactiveshell.py:3338: DtypeWarning: Columns (0,1,3,4,5,6,7,8,9,10,11,12,13,14,15,16,17,18,19,20,21,22,23,24,25,26,27,28,29,30,31,32,33,34,35,36,37,38,39,40,41,42,43,44,45,46,47,48,49,50,51,52,53,54,55,56,57,58,59,60,61,62,63,64,65,66,67,68,69,70,71,72,73,74,75,76,77,78) have mixed types.Specify dtype option on import or set low_memory=False.\n",
      "  if (await self.run_code(code, result,  async_=asy)):\n"
     ]
    }
   ],
   "source": [
    "dfs = []\n",
    "dfs = fusionfiles(files)\n"
   ]
  },
  {
   "cell_type": "code",
   "execution_count": 4,
   "metadata": {},
   "outputs": [
    {
     "ename": "NameError",
     "evalue": "name 'dfs' is not defined",
     "output_type": "error",
     "traceback": [
      "\u001b[1;31m---------------------------------------------------------------------------\u001b[0m",
      "\u001b[1;31mNameError\u001b[0m                                 Traceback (most recent call last)",
      "\u001b[1;32m<ipython-input-4-762752d78c2a>\u001b[0m in \u001b[0;36m<module>\u001b[1;34m\u001b[0m\n\u001b[1;32m----> 1\u001b[1;33m \u001b[0mdfs\u001b[0m\u001b[1;33m[\u001b[0m\u001b[1;36m5\u001b[0m\u001b[1;33m]\u001b[0m\u001b[1;33m.\u001b[0m\u001b[0minfo\u001b[0m\u001b[1;33m(\u001b[0m\u001b[1;33m)\u001b[0m\u001b[1;33m\u001b[0m\u001b[1;33m\u001b[0m\u001b[0m\n\u001b[0m",
      "\u001b[1;31mNameError\u001b[0m: name 'dfs' is not defined"
     ]
    }
   ],
   "source": [
    "dfs[5].info()"
   ]
  },
  {
   "cell_type": "code",
   "execution_count": 24,
   "metadata": {},
   "outputs": [],
   "source": [
    "column_names = [\"Dst Port\",\"Protocol\",\"Timestamp\",\"Flow Duration\",\"Tot Fwd Pkts\",\"Tot Bwd Pkts\",\"TotLen Fwd Pkts\",\n",
    "            \"TotLen Bwd Pkts\",\"Fwd Pkt Len Max\",\"Fwd Pkt Len Min\",\"Fwd Pkt Len Mean\",\"Fwd Pkt Len Std\",\"Bwd Pkt Len Max\",\n",
    "            \"Bwd Pkt Len Min\",\"Bwd Pkt Len Mean\",\"Bwd Pkt Len Std\",\"Flow Byts/s\",\"Flow Pkts/s\",\"Flow IAT Mean\",\"Flow IAT Std\",\n",
    "            \"Flow IAT Max\",\"Flow IAT Min\",\"Fwd IAT Tot\",\"Fwd IAT Mean\",\"Fwd IAT Std\",\"Fwd IAT Max\",\"Fwd IAT Min\",\"Bwd IAT Tot\",\n",
    "            \"Bwd IAT Mean\",\"Bwd IAT Std\",\"Bwd IAT Max\",\"Bwd IAT Min\",\"Fwd PSH Flags\",\"Bwd PSH Flags\",\"Fwd URG Flags\",\n",
    "            \"Bwd URG Flags\",\"Fwd Header Len\",\"Bwd Header Len\",\"Fwd Pkts/s\",\"Bwd Pkts/s\",\"Pkt Len Min\",\"Pkt Len Max\",\n",
    "            \"Pkt Len Mean\",\"Pkt Len Std\",\"Pkt Len Var\",\"FIN Flag Cnt\",\"SYN Flag Cnt\",\"RST Flag Cnt\",\"PSH Flag Cnt\",\n",
    "            \"ACK Flag Cnt\",\"URG Flag Cnt\",\"CWE Flag Count\",\"ECE Flag Cnt\",\"Down/Up Ratio\",\"Pkt Size Avg\",\n",
    "            \"Fwd Seg Size Avg\",\"Bwd Seg Size Avg\",\"Fwd Byts/b Avg\",\"Fwd Pkts/b Avg\",\"Fwd Blk Rate Avg\",\n",
    "            \"Bwd Byts/b Avg\",\"Bwd Pkts/b Avg\",\"Bwd Blk Rate Avg\",\"Subflow Fwd Pkts\",\"Subflow Fwd Byts\",\n",
    "            \"Subflow Bwd Pkts\",\"Subflow Bwd Byts\",\"Init Fwd Win Byts\",\"Init Bwd Win Byts\",\"Fwd Act Data Pkts\",\n",
    "            \"Fwd Seg Size Min\",\"Active Mean\",\"Active Std\",\"Active Max\",\"Active Min\",\"Idle Mean\",\"Idle Std\",\"Idle Max\",\n",
    "            \"Idle Min\",\"Label\"\n",
    "]"
   ]
  },
  {
   "cell_type": "code",
   "execution_count": 33,
   "metadata": {},
   "outputs": [],
   "source": [
    "'''\n",
    "for i in range (10):\n",
    "        dfs[i].dropna()\n",
    "        dfs[i].fillna(df.median(), inplace=True)\n",
    "        '''\n",
    "df = pd.DataFrame()\n",
    "df = pd.concat([dfs[0], dfs[1],dfs[2],dfs[3],dfs[4],dfs[5],dfs[6],dfs[7],dfs[8],dfs[9]])\n",
    "df[\"URG Flag Cnt\"] = pd.to_numeric(df[\"URG Flag Cnt\"], errors='coerce')\n",
    "df[\"SYN Flag Cnt\"] = pd.to_numeric(df[\"SYN Flag Cnt\"], errors='coerce')\n",
    "df[\"RST Flag Cnt\"] = pd.to_numeric(df[\"RST Flag Cnt\"], errors='coerce')\n",
    "df[\"PSH Flag Cnt\"] = pd.to_numeric(df[\"PSH Flag Cnt\"], errors='coerce')\n",
    "df[\"Protocol\"] = pd.to_numeric(df[\"Protocol\"], errors='coerce')\n",
    "df[\"Pkt Size Avg\"] = pd.to_numeric(df[\"Pkt Size Avg\"], errors='coerce')\n",
    "df[\"Flow Pkts/s\"] = pd.to_numeric(df[\"Flow Pkts/s\"], errors='coerce')\n",
    "df[\"FIN Flag Cnt\"] = pd.to_numeric(df[\"PSH Flag Cnt\"], errors='coerce')\n",
    "df[\"ECE Flag Cnt\"] = pd.to_numeric(df[\"ECE Flag Cnt\"], errors='coerce')\n",
    "df[\"ACK Flag Cnt\"] = pd.to_numeric(df[\"ACK Flag Cnt\"], errors='coerce')\n",
    "df[\"Dst Port\"] = pd.to_numeric(df[\"Dst Port\"], errors='coerce')\n",
    "df.to_csv (r'export_dataframe.csv', index = False, header=True)\n"
   ]
  },
  {
   "cell_type": "code",
   "execution_count": 9,
   "metadata": {},
   "outputs": [],
   "source": [
    " df = pd.read_csv('export_dataframe.csv')"
   ]
  },
  {
   "cell_type": "code",
   "execution_count": 10,
   "metadata": {},
   "outputs": [
    {
     "name": "stdout",
     "output_type": "stream",
     "text": [
      "<class 'pandas.core.frame.DataFrame'>\n",
      "RangeIndex: 100000 entries, 0 to 99999\n",
      "Data columns (total 12 columns):\n",
      " #   Column        Non-Null Count   Dtype  \n",
      "---  ------        --------------   -----  \n",
      " 0   URG Flag Cnt  99999 non-null   float64\n",
      " 1   SYN Flag Cnt  99999 non-null   float64\n",
      " 2   RST Flag Cnt  99999 non-null   float64\n",
      " 3   PSH Flag Cnt  99999 non-null   float64\n",
      " 4   Protocol      99999 non-null   float64\n",
      " 5   Pkt Size Avg  99999 non-null   float64\n",
      " 6   Flow Pkts/s   99999 non-null   float64\n",
      " 7   FIN Flag Cnt  99999 non-null   float64\n",
      " 8   ECE Flag Cnt  99999 non-null   float64\n",
      " 9   ACK Flag Cnt  99999 non-null   float64\n",
      " 10  Dst Port      99999 non-null   float64\n",
      " 11  Label         100000 non-null  object \n",
      "dtypes: float64(11), object(1)\n",
      "memory usage: 8.8+ MB\n"
     ]
    }
   ],
   "source": [
    "df.info()"
   ]
  },
  {
   "cell_type": "code",
   "execution_count": 11,
   "metadata": {},
   "outputs": [
    {
     "name": "stdout",
     "output_type": "stream",
     "text": [
      "<class 'pandas.core.frame.DataFrame'>\n",
      "Int64Index: 99999 entries, 0 to 99999\n",
      "Data columns (total 12 columns):\n",
      " #   Column        Non-Null Count  Dtype  \n",
      "---  ------        --------------  -----  \n",
      " 0   URG Flag Cnt  99999 non-null  float64\n",
      " 1   SYN Flag Cnt  99999 non-null  float64\n",
      " 2   RST Flag Cnt  99999 non-null  float64\n",
      " 3   PSH Flag Cnt  99999 non-null  float64\n",
      " 4   Protocol      99999 non-null  float64\n",
      " 5   Pkt Size Avg  99999 non-null  float64\n",
      " 6   Flow Pkts/s   99999 non-null  float64\n",
      " 7   FIN Flag Cnt  99999 non-null  float64\n",
      " 8   ECE Flag Cnt  99999 non-null  float64\n",
      " 9   ACK Flag Cnt  99999 non-null  float64\n",
      " 10  Dst Port      99999 non-null  float64\n",
      " 11  Label         99999 non-null  object \n",
      "dtypes: float64(11), object(1)\n",
      "memory usage: 9.5+ MB\n"
     ]
    }
   ],
   "source": [
    "sample_data = pd.read_csv(\"export_dataframe.csv\")\n",
    "sample_data.to_pickle('export_dataframe.pkl')\n",
    "df = pd.read_pickle('export_dataframe.pkl')\n",
    "#df = df[['URG Flag Cnt','SYN Flag Cnt','RST Flag Cnt','PSH Flag Cnt','Protocol','Pkt Size Avg','Flow Pkts/s','FIN Flag Cnt','ECE Flag Cnt','ACK Flag Cnt','Dst Port','Label']]\n",
    "#df[\"URG Flag Cnt\",\"SYN Flag Cnt\",\"RST Flag Cnt\",\"PSH Flag Cnt\",\"Protocol\",\"Pkt Size Avg\",\"Flow Pkts/s\",\"FIN Flag Cnt\",\"ECE Flag Cnt\",\"ACK Flag Cnt\",\"Dst Port\",\"Label\"] = pd.to_numeric(df[\"URG Flag Cnt\",\"SYN Flag Cnt\",\"RST Flag Cnt\",\"PSH Flag Cnt\",\"Protocol\",\"Pkt Size Avg\",\"Flow Pkts/s\",\"FIN Flag Cnt\",\"ECE Flag Cnt\",\"ACK Flag Cnt\",\"Dst Port\",\"Label\"], errors='coerce')\n",
    "df.dropna(inplace=True)\n",
    "df.info(verbose=True)"
   ]
  },
  {
   "cell_type": "code",
   "execution_count": 12,
   "metadata": {},
   "outputs": [
    {
     "name": "stdout",
     "output_type": "stream",
     "text": [
      "<class 'pandas.core.frame.DataFrame'>\n",
      "Int64Index: 99999 entries, 0 to 99999\n",
      "Data columns (total 12 columns):\n",
      " #   Column        Non-Null Count  Dtype  \n",
      "---  ------        --------------  -----  \n",
      " 0   URG Flag Cnt  99999 non-null  float64\n",
      " 1   SYN Flag Cnt  99999 non-null  float64\n",
      " 2   RST Flag Cnt  99999 non-null  float64\n",
      " 3   PSH Flag Cnt  99999 non-null  float64\n",
      " 4   Protocol      99999 non-null  float64\n",
      " 5   Pkt Size Avg  99999 non-null  float64\n",
      " 6   Flow Pkts/s   99999 non-null  float64\n",
      " 7   FIN Flag Cnt  99999 non-null  float64\n",
      " 8   ECE Flag Cnt  99999 non-null  float64\n",
      " 9   ACK Flag Cnt  99999 non-null  float64\n",
      " 10  Dst Port      99999 non-null  float64\n",
      " 11  Label         99999 non-null  object \n",
      "dtypes: float64(11), object(1)\n",
      "memory usage: 9.5+ MB\n"
     ]
    }
   ],
   "source": [
    "df.info()"
   ]
  },
  {
   "cell_type": "code",
   "execution_count": 13,
   "metadata": {},
   "outputs": [],
   "source": [
    "train = df.groupby('Label').apply(pd.DataFrame.sample, frac=0.8).reset_index(level='Label', drop=True)\n",
    "test = df.drop(train.index)\n",
    "label = train.Label.copy()"
   ]
  },
  {
   "cell_type": "code",
   "execution_count": 14,
   "metadata": {},
   "outputs": [
    {
     "data": {
      "text/plain": [
       "array(['Benign', 'Bot', 'Brute Force -Web', 'Brute Force -XSS',\n",
       "       'DDOS attack-HOIC', 'DDOS attack-LOIC-UDP',\n",
       "       'DDoS attacks-LOIC-HTTP', 'DoS attacks-GoldenEye',\n",
       "       'DoS attacks-SlowHTTPTest', 'FTP-BruteForce', 'SQL Injection'],\n",
       "      dtype=object)"
      ]
     },
     "execution_count": 14,
     "metadata": {},
     "output_type": "execute_result"
    }
   ],
   "source": [
    "label.unique()"
   ]
  },
  {
   "cell_type": "code",
   "execution_count": 15,
   "metadata": {},
   "outputs": [],
   "source": [
    "d1 = train.replace('Benign', 0)\n",
    "d2 = d1.replace('Bot', 1)\n",
    "d3 = d2.replace('Brute Force -Web', 1)\n",
    "d4 = d3.replace('Brute Force -XSS', 1)\n",
    "d5 = d4.replace('DDOS attack-HOIC', 1)\n",
    "d6 = d5.replace('DDOS attack-LOIC-UDP', 1)\n",
    "d7 = d6.replace('DDoS attacks-LOIC-HTTP', 1)\n",
    "d8 = d7.replace('DoS attacks-GoldenEye', 1)\n",
    "d9 = d8.replace('DoS attacks-SlowHTTPTest', 1)\n",
    "d10 = d9.replace('FTP-BruteForce', 1)\n",
    "d11 = d10.replace('SQL Injection', 1)"
   ]
  },
  {
   "cell_type": "code",
   "execution_count": 16,
   "metadata": {},
   "outputs": [
    {
     "data": {
      "text/plain": [
       "array([0, 1], dtype=int64)"
      ]
     },
     "execution_count": 16,
     "metadata": {},
     "output_type": "execute_result"
    }
   ],
   "source": [
    "d12_label = d11.Label.copy()\n",
    "d12_label.unique()"
   ]
  },
  {
   "cell_type": "code",
   "execution_count": 17,
   "metadata": {},
   "outputs": [
    {
     "data": {
      "text/plain": [
       "1    45533\n",
       "0    34466\n",
       "Name: Label, dtype: int64"
      ]
     },
     "execution_count": 17,
     "metadata": {},
     "output_type": "execute_result"
    }
   ],
   "source": [
    "d12_label.value_counts()"
   ]
  },
  {
   "cell_type": "code",
   "execution_count": 18,
   "metadata": {},
   "outputs": [
    {
     "data": {
      "text/plain": [
       "array(['Benign', 'FTP-BruteForce', 'DoS attacks-GoldenEye',\n",
       "       'DoS attacks-SlowHTTPTest', 'DDoS attacks-LOIC-HTTP',\n",
       "       'DDOS attack-LOIC-UDP', 'DDOS attack-HOIC', 'Brute Force -Web',\n",
       "       'Brute Force -XSS', 'SQL Injection', 'Bot'], dtype=object)"
      ]
     },
     "execution_count": 18,
     "metadata": {},
     "output_type": "execute_result"
    }
   ],
   "source": [
    "test_label = test.Label.copy() #ra kanggo\n",
    "test_label.unique() #ra kanggo\n",
    "a1_label = test.Label.copy()\n",
    "a1_label.unique()"
   ]
  },
  {
   "cell_type": "code",
   "execution_count": 19,
   "metadata": {},
   "outputs": [
    {
     "data": {
      "text/plain": [
       "1    11383\n",
       "0     8617\n",
       "Name: Label, dtype: int64"
      ]
     },
     "execution_count": 19,
     "metadata": {},
     "output_type": "execute_result"
    }
   ],
   "source": [
    "a1 = test.replace('Benign', 0)\n",
    "a2 = a1.replace('Bot', 1)\n",
    "a3 = a2.replace('Brute Force -Web', 1)\n",
    "a4 = a3.replace('Brute Force -XSS', 1)\n",
    "a5 = a4.replace('DDOS attack-HOIC', 1)\n",
    "a6 = a5.replace('DDOS attack-LOIC-UDP', 1)\n",
    "a7 = a6.replace('DDoS attacks-LOIC-HTTP', 1)\n",
    "a8 = a7.replace('DoS attacks-GoldenEye', 1)\n",
    "a9 = a8.replace('DoS attacks-SlowHTTPTest', 1)\n",
    "a10 = a9.replace('FTP-BruteForce', 1)\n",
    "a11 = a10.replace('SQL Injection', 1)\n",
    "a12_label = a11.Label.copy()\n",
    "a12_label.unique()\n",
    "a12_label.value_counts()"
   ]
  },
  {
   "cell_type": "code",
   "execution_count": 20,
   "metadata": {},
   "outputs": [
    {
     "name": "stdout",
     "output_type": "stream",
     "text": [
      "Length of Categories for Protocol are 3\n",
      "Categories for Protocol are Float64Index([0.0, 6.0, 17.0], dtype='float64') \n",
      "\n"
     ]
    }
   ],
   "source": [
    "category_variables = [\"Protocol\"]\n",
    "\n",
    "for cv in category_variables:\n",
    "    d11[cv] = d11[cv].astype(\"category\")\n",
    "    a11[cv] = a11[cv].astype(\"category\")\n",
    "    \n",
    "    print(\"Length of Categories for {} are {}\".format(cv , len(d11[cv].cat.categories)))\n",
    "    print(\"Categories for {} are {} \\n\".format(cv ,d11[cv].cat.categories))"
   ]
  },
  {
   "cell_type": "code",
   "execution_count": 21,
   "metadata": {},
   "outputs": [],
   "source": [
    "dummy_variables_2labels = category_variables\n",
    "    \n",
    "class preprocessing:\n",
    "    train_labels = pd.get_dummies(d11, columns = dummy_variables_2labels, prefix=dummy_variables_2labels)\n",
    "    test_labels = pd.get_dummies(a11, columns = dummy_variables_2labels, prefix=dummy_variables_2labels)"
   ]
  },
  {
   "cell_type": "code",
   "execution_count": 22,
   "metadata": {},
   "outputs": [
    {
     "data": {
      "text/html": [
       "<div>\n",
       "<style scoped>\n",
       "    .dataframe tbody tr th:only-of-type {\n",
       "        vertical-align: middle;\n",
       "    }\n",
       "\n",
       "    .dataframe tbody tr th {\n",
       "        vertical-align: top;\n",
       "    }\n",
       "\n",
       "    .dataframe thead th {\n",
       "        text-align: right;\n",
       "    }\n",
       "</style>\n",
       "<table border=\"1\" class=\"dataframe\">\n",
       "  <thead>\n",
       "    <tr style=\"text-align: right;\">\n",
       "      <th></th>\n",
       "      <th>URG Flag Cnt</th>\n",
       "      <th>SYN Flag Cnt</th>\n",
       "      <th>RST Flag Cnt</th>\n",
       "      <th>PSH Flag Cnt</th>\n",
       "      <th>Protocol</th>\n",
       "      <th>Pkt Size Avg</th>\n",
       "      <th>Flow Pkts/s</th>\n",
       "      <th>FIN Flag Cnt</th>\n",
       "      <th>ECE Flag Cnt</th>\n",
       "      <th>ACK Flag Cnt</th>\n",
       "      <th>Dst Port</th>\n",
       "      <th>Label</th>\n",
       "    </tr>\n",
       "  </thead>\n",
       "  <tbody>\n",
       "    <tr>\n",
       "      <th>42620</th>\n",
       "      <td>0.0</td>\n",
       "      <td>0.0</td>\n",
       "      <td>0.0</td>\n",
       "      <td>0.0</td>\n",
       "      <td>17.0</td>\n",
       "      <td>35.200000</td>\n",
       "      <td>0.088493</td>\n",
       "      <td>0.0</td>\n",
       "      <td>0.0</td>\n",
       "      <td>0.0</td>\n",
       "      <td>80.0</td>\n",
       "      <td>0</td>\n",
       "    </tr>\n",
       "    <tr>\n",
       "      <th>62780</th>\n",
       "      <td>0.0</td>\n",
       "      <td>0.0</td>\n",
       "      <td>0.0</td>\n",
       "      <td>1.0</td>\n",
       "      <td>6.0</td>\n",
       "      <td>0.000000</td>\n",
       "      <td>95238.095238</td>\n",
       "      <td>1.0</td>\n",
       "      <td>0.0</td>\n",
       "      <td>0.0</td>\n",
       "      <td>23.0</td>\n",
       "      <td>0</td>\n",
       "    </tr>\n",
       "    <tr>\n",
       "      <th>65987</th>\n",
       "      <td>0.0</td>\n",
       "      <td>0.0</td>\n",
       "      <td>0.0</td>\n",
       "      <td>1.0</td>\n",
       "      <td>6.0</td>\n",
       "      <td>0.000000</td>\n",
       "      <td>46.089321</td>\n",
       "      <td>1.0</td>\n",
       "      <td>0.0</td>\n",
       "      <td>0.0</td>\n",
       "      <td>445.0</td>\n",
       "      <td>0</td>\n",
       "    </tr>\n",
       "    <tr>\n",
       "      <th>59158</th>\n",
       "      <td>0.0</td>\n",
       "      <td>0.0</td>\n",
       "      <td>0.0</td>\n",
       "      <td>1.0</td>\n",
       "      <td>6.0</td>\n",
       "      <td>0.000000</td>\n",
       "      <td>16.422991</td>\n",
       "      <td>1.0</td>\n",
       "      <td>0.0</td>\n",
       "      <td>0.0</td>\n",
       "      <td>445.0</td>\n",
       "      <td>0</td>\n",
       "    </tr>\n",
       "    <tr>\n",
       "      <th>70022</th>\n",
       "      <td>0.0</td>\n",
       "      <td>0.0</td>\n",
       "      <td>1.0</td>\n",
       "      <td>1.0</td>\n",
       "      <td>6.0</td>\n",
       "      <td>339.384615</td>\n",
       "      <td>137.032508</td>\n",
       "      <td>1.0</td>\n",
       "      <td>1.0</td>\n",
       "      <td>0.0</td>\n",
       "      <td>443.0</td>\n",
       "      <td>0</td>\n",
       "    </tr>\n",
       "  </tbody>\n",
       "</table>\n",
       "</div>"
      ],
      "text/plain": [
       "       URG Flag Cnt  SYN Flag Cnt  RST Flag Cnt  PSH Flag Cnt Protocol  \\\n",
       "42620           0.0           0.0           0.0           0.0     17.0   \n",
       "62780           0.0           0.0           0.0           1.0      6.0   \n",
       "65987           0.0           0.0           0.0           1.0      6.0   \n",
       "59158           0.0           0.0           0.0           1.0      6.0   \n",
       "70022           0.0           0.0           1.0           1.0      6.0   \n",
       "\n",
       "       Pkt Size Avg   Flow Pkts/s  FIN Flag Cnt  ECE Flag Cnt  ACK Flag Cnt  \\\n",
       "42620     35.200000      0.088493           0.0           0.0           0.0   \n",
       "62780      0.000000  95238.095238           1.0           0.0           0.0   \n",
       "65987      0.000000     46.089321           1.0           0.0           0.0   \n",
       "59158      0.000000     16.422991           1.0           0.0           0.0   \n",
       "70022    339.384615    137.032508           1.0           1.0           0.0   \n",
       "\n",
       "       Dst Port  Label  \n",
       "42620      80.0      0  \n",
       "62780      23.0      0  \n",
       "65987     445.0      0  \n",
       "59158     445.0      0  \n",
       "70022     443.0      0  "
      ]
     },
     "execution_count": 22,
     "metadata": {},
     "output_type": "execute_result"
    }
   ],
   "source": [
    "d11.head()"
   ]
  },
  {
   "cell_type": "code",
   "execution_count": 23,
   "metadata": {},
   "outputs": [
    {
     "name": "stdout",
     "output_type": "stream",
     "text": [
      "<class 'pandas.core.frame.DataFrame'>\n",
      "Int64Index: 20000 entries, 1 to 99995\n",
      "Data columns (total 14 columns):\n",
      " #   Column         Non-Null Count  Dtype  \n",
      "---  ------         --------------  -----  \n",
      " 0   URG Flag Cnt   20000 non-null  float64\n",
      " 1   SYN Flag Cnt   20000 non-null  float64\n",
      " 2   RST Flag Cnt   20000 non-null  float64\n",
      " 3   PSH Flag Cnt   20000 non-null  float64\n",
      " 4   Pkt Size Avg   20000 non-null  float64\n",
      " 5   Flow Pkts/s    20000 non-null  float64\n",
      " 6   FIN Flag Cnt   20000 non-null  float64\n",
      " 7   ECE Flag Cnt   20000 non-null  float64\n",
      " 8   ACK Flag Cnt   20000 non-null  float64\n",
      " 9   Dst Port       20000 non-null  float64\n",
      " 10  Label          20000 non-null  int64  \n",
      " 11  Protocol_0.0   20000 non-null  uint8  \n",
      " 12  Protocol_6.0   20000 non-null  uint8  \n",
      " 13  Protocol_17.0  20000 non-null  uint8  \n",
      "dtypes: float64(10), int64(1), uint8(3)\n",
      "memory usage: 1.9 MB\n"
     ]
    }
   ],
   "source": [
    "preprocessing.test_labels.info(verbose=True)"
   ]
  },
  {
   "cell_type": "code",
   "execution_count": 57,
   "metadata": {},
   "outputs": [],
   "source": [
    "preprocessing.train_labels.to_csv(\"D:/Data/preprocessed_train_2018.csv\")\n",
    "preprocessing.test_labels.to_csv(\"D:/Data/preprocessed_test_2018.csv\")"
   ]
  },
  {
   "cell_type": "code",
   "execution_count": 2,
   "metadata": {},
   "outputs": [
    {
     "data": {
      "text/html": [
       "<div>\n",
       "<style scoped>\n",
       "    .dataframe tbody tr th:only-of-type {\n",
       "        vertical-align: middle;\n",
       "    }\n",
       "\n",
       "    .dataframe tbody tr th {\n",
       "        vertical-align: top;\n",
       "    }\n",
       "\n",
       "    .dataframe thead th {\n",
       "        text-align: right;\n",
       "    }\n",
       "</style>\n",
       "<table border=\"1\" class=\"dataframe\">\n",
       "  <thead>\n",
       "    <tr style=\"text-align: right;\">\n",
       "      <th></th>\n",
       "      <th>URG Flag Cnt</th>\n",
       "      <th>SYN Flag Cnt</th>\n",
       "      <th>RST Flag Cnt</th>\n",
       "      <th>PSH Flag Cnt</th>\n",
       "      <th>Pkt Size Avg</th>\n",
       "      <th>Flow Pkts/s</th>\n",
       "      <th>FIN Flag Cnt</th>\n",
       "      <th>ECE Flag Cnt</th>\n",
       "      <th>ACK Flag Cnt</th>\n",
       "      <th>Dst Port</th>\n",
       "      <th>Label</th>\n",
       "      <th>Protocol_0.0</th>\n",
       "      <th>Protocol_6.0</th>\n",
       "      <th>Protocol_17.0</th>\n",
       "    </tr>\n",
       "  </thead>\n",
       "  <tbody>\n",
       "    <tr>\n",
       "      <th>0</th>\n",
       "      <td>0.0</td>\n",
       "      <td>0.0</td>\n",
       "      <td>0.0</td>\n",
       "      <td>0.0</td>\n",
       "      <td>34.909091</td>\n",
       "      <td>0.100906</td>\n",
       "      <td>0.0</td>\n",
       "      <td>0.0</td>\n",
       "      <td>0.0</td>\n",
       "      <td>80.0</td>\n",
       "      <td>0</td>\n",
       "      <td>0</td>\n",
       "      <td>0</td>\n",
       "      <td>1</td>\n",
       "    </tr>\n",
       "    <tr>\n",
       "      <th>1</th>\n",
       "      <td>0.0</td>\n",
       "      <td>0.0</td>\n",
       "      <td>0.0</td>\n",
       "      <td>1.0</td>\n",
       "      <td>222.857143</td>\n",
       "      <td>0.462527</td>\n",
       "      <td>1.0</td>\n",
       "      <td>0.0</td>\n",
       "      <td>0.0</td>\n",
       "      <td>443.0</td>\n",
       "      <td>0</td>\n",
       "      <td>0</td>\n",
       "      <td>1</td>\n",
       "      <td>0</td>\n",
       "    </tr>\n",
       "    <tr>\n",
       "      <th>2</th>\n",
       "      <td>1.0</td>\n",
       "      <td>0.0</td>\n",
       "      <td>0.0</td>\n",
       "      <td>0.0</td>\n",
       "      <td>0.000000</td>\n",
       "      <td>181818.181800</td>\n",
       "      <td>0.0</td>\n",
       "      <td>0.0</td>\n",
       "      <td>1.0</td>\n",
       "      <td>50519.0</td>\n",
       "      <td>0</td>\n",
       "      <td>0</td>\n",
       "      <td>1</td>\n",
       "      <td>0</td>\n",
       "    </tr>\n",
       "    <tr>\n",
       "      <th>3</th>\n",
       "      <td>0.0</td>\n",
       "      <td>0.0</td>\n",
       "      <td>0.0</td>\n",
       "      <td>0.0</td>\n",
       "      <td>34.461538</td>\n",
       "      <td>0.115077</td>\n",
       "      <td>0.0</td>\n",
       "      <td>0.0</td>\n",
       "      <td>0.0</td>\n",
       "      <td>80.0</td>\n",
       "      <td>0</td>\n",
       "      <td>0</td>\n",
       "      <td>0</td>\n",
       "      <td>1</td>\n",
       "    </tr>\n",
       "    <tr>\n",
       "      <th>4</th>\n",
       "      <td>0.0</td>\n",
       "      <td>0.0</td>\n",
       "      <td>0.0</td>\n",
       "      <td>1.0</td>\n",
       "      <td>92.714286</td>\n",
       "      <td>10057.471264</td>\n",
       "      <td>1.0</td>\n",
       "      <td>0.0</td>\n",
       "      <td>0.0</td>\n",
       "      <td>80.0</td>\n",
       "      <td>0</td>\n",
       "      <td>0</td>\n",
       "      <td>1</td>\n",
       "      <td>0</td>\n",
       "    </tr>\n",
       "  </tbody>\n",
       "</table>\n",
       "</div>"
      ],
      "text/plain": [
       "   URG Flag Cnt  SYN Flag Cnt  RST Flag Cnt  PSH Flag Cnt  Pkt Size Avg  \\\n",
       "0           0.0           0.0           0.0           0.0     34.909091   \n",
       "1           0.0           0.0           0.0           1.0    222.857143   \n",
       "2           1.0           0.0           0.0           0.0      0.000000   \n",
       "3           0.0           0.0           0.0           0.0     34.461538   \n",
       "4           0.0           0.0           0.0           1.0     92.714286   \n",
       "\n",
       "     Flow Pkts/s  FIN Flag Cnt  ECE Flag Cnt  ACK Flag Cnt  Dst Port  Label  \\\n",
       "0       0.100906           0.0           0.0           0.0      80.0      0   \n",
       "1       0.462527           1.0           0.0           0.0     443.0      0   \n",
       "2  181818.181800           0.0           0.0           1.0   50519.0      0   \n",
       "3       0.115077           0.0           0.0           0.0      80.0      0   \n",
       "4   10057.471264           1.0           0.0           0.0      80.0      0   \n",
       "\n",
       "   Protocol_0.0  Protocol_6.0  Protocol_17.0  \n",
       "0             0             0              1  \n",
       "1             0             1              0  \n",
       "2             0             1              0  \n",
       "3             0             0              1  \n",
       "4             0             1              0  "
      ]
     },
     "execution_count": 2,
     "metadata": {},
     "output_type": "execute_result"
    }
   ],
   "source": [
    "traindata = pd.read_csv('D:/Data/preprocessed_train_2018.csv')\n",
    "testdata = pd.read_csv('D:/Data/preprocessed_train_2018.csv')\n",
    "traindata.pop(\"Unnamed: 0\")\n",
    "testdata.pop(\"Unnamed: 0\")\n",
    "\n",
    "traindata.head()"
   ]
  },
  {
   "cell_type": "code",
   "execution_count": 3,
   "metadata": {},
   "outputs": [
    {
     "name": "stdout",
     "output_type": "stream",
     "text": [
      "<class 'pandas.core.frame.DataFrame'>\n",
      "RangeIndex: 79999 entries, 0 to 79998\n",
      "Data columns (total 13 columns):\n",
      " #   Column         Non-Null Count  Dtype  \n",
      "---  ------         --------------  -----  \n",
      " 0   URG Flag Cnt   79999 non-null  float64\n",
      " 1   SYN Flag Cnt   79999 non-null  float64\n",
      " 2   RST Flag Cnt   79999 non-null  float64\n",
      " 3   PSH Flag Cnt   79999 non-null  float64\n",
      " 4   Pkt Size Avg   79999 non-null  float64\n",
      " 5   Flow Pkts/s    79999 non-null  float64\n",
      " 6   FIN Flag Cnt   79999 non-null  float64\n",
      " 7   ECE Flag Cnt   79999 non-null  float64\n",
      " 8   ACK Flag Cnt   79999 non-null  float64\n",
      " 9   Dst Port       79999 non-null  float64\n",
      " 10  Protocol_0.0   79999 non-null  int64  \n",
      " 11  Protocol_6.0   79999 non-null  int64  \n",
      " 12  Protocol_17.0  79999 non-null  int64  \n",
      "dtypes: float64(10), int64(3)\n",
      "memory usage: 7.9 MB\n"
     ]
    }
   ],
   "source": [
    "Y = traindata.pop('Label')\n",
    "X = traindata.iloc[:,0:13]\n",
    "C = testdata.pop('Label')\n",
    "T = testdata.iloc[:,0:13]\n",
    "\n",
    "X.info(verbose=True)"
   ]
  },
  {
   "cell_type": "code",
   "execution_count": 4,
   "metadata": {},
   "outputs": [
    {
     "data": {
      "text/plain": [
       "array([0, 0, 0, ..., 1, 1, 1], dtype=int64)"
      ]
     },
     "execution_count": 4,
     "metadata": {},
     "output_type": "execute_result"
    }
   ],
   "source": [
    "_traindata = np.array(X)\n",
    "_trainlabel = np.array(Y)\n",
    "_traindata = X.replace((np.inf, -np.inf, np.nan), 0).reset_index(drop=True)\n",
    "_testdata = np.array(T)\n",
    "_testlabel = np.array(C)\n",
    "_testdata = T.replace((np.inf, -np.inf, np.nan), 0).reset_index(drop=True)\n",
    "_testlabel"
   ]
  },
  {
   "cell_type": "code",
   "execution_count": 5,
   "metadata": {},
   "outputs": [],
   "source": [
    "from sklearn.model_selection import train_test_split\n",
    "from sklearn import preprocessing\n",
    "from sklearn.ensemble import RandomForestClassifier\n",
    "from sklearn.pipeline import make_pipeline, Pipeline\n",
    "from sklearn.model_selection import GridSearchCV\n",
    "from sklearn.metrics import mean_squared_error, r2_score\n",
    "\n",
    "# 5. Declare data preprocessing steps\n",
    "pipeline = make_pipeline(RandomForestClassifier())\n",
    "\n",
    "# Add a dict of estimator and estimator related parameters in this list\n",
    "hyperparameters = {\n",
    "                'randomforestclassifier__n_estimators': [25,50,75,100],\n",
    "                'randomforestclassifier__max_features' : [None, \"log2\", \"auto\"]\n",
    "                }"
   ]
  },
  {
   "cell_type": "code",
   "execution_count": 10,
   "metadata": {},
   "outputs": [
    {
     "name": "stdout",
     "output_type": "stream",
     "text": [
      "Fitting 5 folds for each of 12 candidates, totalling 60 fits\n"
     ]
    },
    {
     "name": "stderr",
     "output_type": "stream",
     "text": [
      "[Parallel(n_jobs=-1)]: Using backend LokyBackend with 8 concurrent workers.\n",
      "[Parallel(n_jobs=-1)]: Done  34 tasks      | elapsed:   49.6s\n",
      "[Parallel(n_jobs=-1)]: Done  60 out of  60 | elapsed:  1.7min finished\n"
     ]
    },
    {
     "data": {
      "text/plain": [
       "GridSearchCV(cv=5,\n",
       "             estimator=Pipeline(steps=[('randomforestclassifier',\n",
       "                                        RandomForestClassifier())]),\n",
       "             n_jobs=-1,\n",
       "             param_grid={'randomforestclassifier__max_features': [None, 'log2',\n",
       "                                                                  'auto'],\n",
       "                         'randomforestclassifier__n_estimators': [25, 50, 75,\n",
       "                                                                  100]},\n",
       "             verbose=1)"
      ]
     },
     "execution_count": 10,
     "metadata": {},
     "output_type": "execute_result"
    }
   ],
   "source": [
    "clf = GridSearchCV(pipeline, hyperparameters, cv=5,verbose=1,n_jobs=-1)\n",
    "clf.fit(_traindata, _trainlabel)"
   ]
  },
  {
   "cell_type": "code",
   "execution_count": 63,
   "metadata": {},
   "outputs": [
    {
     "name": "stdout",
     "output_type": "stream",
     "text": [
      "{'randomforestclassifier__max_features': None, 'randomforestclassifier__n_estimators': 25}\n",
      "Pipeline(steps=[('randomforestclassifier',\n",
      "                 RandomForestClassifier(max_features=None, n_estimators=25))])\n"
     ]
    }
   ],
   "source": [
    "print(clf.best_params_)\n",
    "print(clf.best_estimator_)\n",
    "# print(clf.cv_results_ )"
   ]
  },
  {
   "cell_type": "code",
   "execution_count": 64,
   "metadata": {},
   "outputs": [
    {
     "name": "stdout",
     "output_type": "stream",
     "text": [
      "0.8874874234327146\n"
     ]
    }
   ],
   "source": [
    "print(clf.best_score_)"
   ]
  },
  {
   "cell_type": "code",
   "execution_count": 65,
   "metadata": {},
   "outputs": [
    {
     "name": "stdout",
     "output_type": "stream",
     "text": [
      "True\n",
      "0.9969124614057676\n"
     ]
    }
   ],
   "source": [
    "print (clf.refit)\n",
    " \n",
    "# 9. Evaluate model pipeline on test data\n",
    "pred = clf.predict(_testdata)\n",
    "\n",
    "\n",
    "from sklearn.metrics import accuracy_score\n",
    "print(accuracy_score(_testlabel, pred))"
   ]
  },
  {
   "cell_type": "code",
   "execution_count": 66,
   "metadata": {},
   "outputs": [
    {
     "name": "stdout",
     "output_type": "stream",
     "text": [
      "              precision    recall  f1-score   support\n",
      "\n",
      "           0       0.99      1.00      1.00     34466\n",
      "           1       1.00      1.00      1.00     45533\n",
      "\n",
      "    accuracy                           1.00     79999\n",
      "   macro avg       1.00      1.00      1.00     79999\n",
      "weighted avg       1.00      1.00      1.00     79999\n",
      "\n",
      "[[34446    20]\n",
      " [  227 45306]]\n"
     ]
    }
   ],
   "source": [
    "from sklearn.metrics import confusion_matrix,classification_report\n",
    "\n",
    "cm = confusion_matrix(_testlabel, pred)\n",
    "print(classification_report(_testlabel, pred))\n",
    "print(cm)"
   ]
  },
  {
   "cell_type": "code",
   "execution_count": 69,
   "metadata": {},
   "outputs": [
    {
     "data": {
      "text/plain": [
       "['rf_intrusion_detection.pkl']"
      ]
     },
     "execution_count": 69,
     "metadata": {},
     "output_type": "execute_result"
    }
   ],
   "source": [
    "#  Save model for future use\n",
    "from joblib import dump, load\n",
    "dump(clf, 'rf_intrusion_detection.pkl')"
   ]
  },
  {
   "cell_type": "code",
   "execution_count": null,
   "metadata": {},
   "outputs": [],
   "source": [
    "#Pour réouvrir le modele \n",
    "#clf = load('filename.joblib') "
   ]
  },
  {
   "cell_type": "code",
   "execution_count": 23,
   "metadata": {},
   "outputs": [
    {
     "name": "stdout",
     "output_type": "stream",
     "text": [
      "[(3, 0.8881008043314932), (4, 0.9091008382775424), (5, 0.9340880914463082), (6, 0.9464383578790454), (7, 0.9233147150401531), (8, 0.9260024117664015), (9, 0.9288524273969408), (10, 0.9291524358351086), (11, 0.9294774488046302), (12, 0.9293649191165481), (13, 0.9294024111477689), (14, 0.9292649119287708), (15, 0.9292024186474876), (16, 0.9292524123975033), (17, 0.9292774136475658), (18, 0.9292649152100619), (19, 0.9290149027094368)]\n"
     ]
    }
   ],
   "source": [
    "##Decision tree\n",
    "from sklearn import tree\n",
    "from sklearn.model_selection import cross_val_score\n",
    "'''\n",
    "# 5. Declare data preprocessing steps\n",
    "pipeline = make_pipeline(tree.DecisionTreeClassifier())\n",
    "\n",
    "# Add a dict of estimator and estimator related parameters in this list\n",
    "hyperparameters = {\n",
    "                'randomforestclassifier__n_estimators': [25,50,75,100],\n",
    "                'randomforestclassifier__max_features' : [None, \"log2\", \"auto\"]\n",
    "                }\n",
    "clf = GridSearchCV(pipeline, hyperparameters, cv=5,verbose=1,n_jobs=-1)\n",
    "'''\n",
    "depth = []\n",
    "for i in range(3,20):\n",
    "    clfDT = tree.DecisionTreeClassifier(max_depth=i)\n",
    "    # Perform 7-fold cross validation \n",
    "    scores = cross_val_score(estimator=clfDT, X=_traindata, y=_trainlabel, cv=7, n_jobs=4)\n",
    "    depth.append((i,scores.mean()))\n",
    "    \n",
    "print(depth)\n"
   ]
  },
  {
   "cell_type": "code",
   "execution_count": 16,
   "metadata": {},
   "outputs": [],
   "source": [
    "\n",
    "clfDT = tree.DecisionTreeClassifier(max_depth=6,min_samples_leaf=6)\n",
    "clfDT = clfDT.fit(_traindata, _trainlabel)"
   ]
  },
  {
   "cell_type": "code",
   "execution_count": 17,
   "metadata": {},
   "outputs": [
    {
     "name": "stdout",
     "output_type": "stream",
     "text": [
      "0.9853873173414668\n"
     ]
    }
   ],
   "source": [
    "predDT = clfDT.predict(_testdata)\n",
    "from sklearn.metrics import accuracy_score\n",
    "print(accuracy_score(_testlabel, predDT))"
   ]
  },
  {
   "cell_type": "code",
   "execution_count": 18,
   "metadata": {},
   "outputs": [
    {
     "name": "stdout",
     "output_type": "stream",
     "text": [
      "              precision    recall  f1-score   support\n",
      "\n",
      "           0       0.99      0.98      0.98     34466\n",
      "           1       0.98      0.99      0.99     45533\n",
      "\n",
      "    accuracy                           0.99     79999\n",
      "   macro avg       0.99      0.98      0.99     79999\n",
      "weighted avg       0.99      0.99      0.99     79999\n",
      "\n",
      "[[33671   795]\n",
      " [  374 45159]]\n"
     ]
    }
   ],
   "source": [
    "from sklearn.metrics import confusion_matrix,classification_report\n",
    "\n",
    "cm = confusion_matrix(_testlabel, predDT)\n",
    "print(classification_report(_testlabel, predDT))\n",
    "print(cm)"
   ]
  },
  {
   "cell_type": "code",
   "execution_count": 19,
   "metadata": {},
   "outputs": [
    {
     "data": {
      "text/plain": [
       "['dt_intrusion_detection.pkl']"
      ]
     },
     "execution_count": 19,
     "metadata": {},
     "output_type": "execute_result"
    }
   ],
   "source": [
    "#  Save model for future use\n",
    "from joblib import dump, load\n",
    "dump(clfDT, 'dt_intrusion_detection.pkl')"
   ]
  },
  {
   "cell_type": "code",
   "execution_count": 30,
   "metadata": {},
   "outputs": [
    {
     "name": "stderr",
     "output_type": "stream",
     "text": [
      "C:\\Users\\hp\\anaconda3\\lib\\site-packages\\seaborn\\distributions.py:2551: FutureWarning: `distplot` is a deprecated function and will be removed in a future version. Please adapt your code to use either `displot` (a figure-level function with similar flexibility) or `histplot` (an axes-level function for histograms).\n",
      "  warnings.warn(msg, FutureWarning)\n",
      "C:\\Users\\hp\\anaconda3\\lib\\site-packages\\seaborn\\distributions.py:305: UserWarning: Dataset has 0 variance; skipping density estimate.\n",
      "  warnings.warn(msg, UserWarning)\n"
     ]
    },
    {
     "name": "stdout",
     "output_type": "stream",
     "text": [
      "Decision Tree Classifier Results\n",
      "======================\n",
      "Confusion Matrix:\n",
      "[[34459     7]\n",
      " [  232 45301]]\n",
      "Error Value:0.0029875373442167508\n",
      "Accuracy_Score:0.9970124626557832\n",
      "\n"
     ]
    },
    {
     "data": {
      "image/png": "[encoded data removed]",
      "text/plain": [
       "<Figure size 432x288 with 1 Axes>"
      ]
     },
     "metadata": {
      "needs_background": "light"
     },
     "output_type": "display_data"
    }
   ],
   "source": [
    "from sklearn.tree import DecisionTreeClassifier\n",
    "from sklearn.metrics import confusion_matrix, zero_one_loss, accuracy_score\n",
    "model_accuracies = []\n",
    "for i in range(1000):\n",
    "    DTclassifier = DecisionTreeClassifier(random_state=10)\n",
    "    DTclassifier.fit(_traindata, _trainlabel)\n",
    "    classifier_accuracy = DTclassifier.score(_testdata, _testlabel)\n",
    "    model_accuracies.append(classifier_accuracy)\n",
    "sns.distplot(model_accuracies)\n",
    "\n",
    "pred_y = DTclassifier.predict(_testdata)\n",
    "\n",
    "results = confusion_matrix(_testlabel, pred_y)\n",
    "error = zero_one_loss(_testlabel, pred_y)\n",
    "accuracy_score = accuracy_score(_testlabel, pred_y)\n",
    "\n",
    "print(\"Decision Tree Classifier Results\\n======================\\nConfusion Matrix:\\n{}\\nError Value:{}\\nAccuracy_Score:{}\\n\".format(results, error, accuracy_score))"
   ]
  },
  {
   "cell_type": "code",
   "execution_count": 26,
   "metadata": {},
   "outputs": [
    {
     "name": "stderr",
     "output_type": "stream",
     "text": [
      "C:\\Users\\hp\\anaconda3\\lib\\site-packages\\seaborn\\distributions.py:2551: FutureWarning: `distplot` is a deprecated function and will be removed in a future version. Please adapt your code to use either `displot` (a figure-level function with similar flexibility) or `histplot` (an axes-level function for histograms).\n",
      "  warnings.warn(msg, FutureWarning)\n"
     ]
    },
    {
     "data": {
      "text/plain": [
       "Text(0.5, 1.0, 'Average score: 0.9894374031128891')"
      ]
     },
     "execution_count": 26,
     "metadata": {},
     "output_type": "execute_result"
    },
    {
     "data": {
      "image/png": "[encoded data removed]",
      "text/plain": [
       "<Figure size 432x288 with 1 Axes>"
      ]
     },
     "metadata": {
      "needs_background": "light"
     },
     "output_type": "display_data"
    }
   ],
   "source": [
    "\n",
    "dtc = DecisionTreeClassifier()\n",
    "cv_scores = cross_val_score(dtc, _traindata, _trainlabel, cv=10)\n",
    "sns.distplot(cv_scores)\n",
    "plt.title('Average score: {}'.format(np.mean(cv_scores)))"
   ]
  },
  {
   "cell_type": "code",
   "execution_count": 36,
   "metadata": {},
   "outputs": [
    {
     "name": "stdout",
     "output_type": "stream",
     "text": [
      "Best score: 0.89342472184023\n",
      "Best parameters: {'criterion': 'entropy', 'max_depth': 4, 'max_features': 4, 'splitter': 'best'}\n"
     ]
    },
    {
     "data": {
      "text/plain": [
       "DecisionTreeClassifier(criterion='entropy', max_depth=4, max_features=4)"
      ]
     },
     "execution_count": 36,
     "metadata": {},
     "output_type": "execute_result"
    }
   ],
   "source": [
    "from sklearn.model_selection import GridSearchCV\n",
    "from sklearn.model_selection import StratifiedKFold\n",
    "dtc = DecisionTreeClassifier()\n",
    "\n",
    "parameter_grid = {'criterion': ['gini', 'entropy'],\n",
    "                  'splitter': ['best', 'random'],\n",
    "                  'max_depth': [1, 2, 3, 4, 5],\n",
    "                  'max_features': [1, 2, 3, 4]}\n",
    "\n",
    "cross_validation = StratifiedKFold( n_splits=10)\n",
    "\n",
    "grid_search = GridSearchCV(dtc, param_grid=parameter_grid, cv=cross_validation)\n",
    "\n",
    "grid_search.fit(_testdata, _testlabel)\n",
    "print('Best score: {}'.format(grid_search.best_score_))\n",
    "print('Best parameters: {}'.format(grid_search.best_params_))\n",
    "\n",
    "dtc = grid_search.best_estimator_\n",
    "dtc"
   ]
  },
  {
   "cell_type": "code",
   "execution_count": 37,
   "metadata": {},
   "outputs": [
    {
     "name": "stderr",
     "output_type": "stream",
     "text": [
      "C:\\Users\\hp\\anaconda3\\lib\\site-packages\\seaborn\\distributions.py:2551: FutureWarning: `distplot` is a deprecated function and will be removed in a future version. Please adapt your code to use either `displot` (a figure-level function with similar flexibility) or `histplot` (an axes-level function for histograms).\n",
      "  warnings.warn(msg, FutureWarning)\n"
     ]
    },
    {
     "data": {
      "text/plain": [
       "Text(0.5, 1.0, 'Average score: 0.8181617913619601')"
      ]
     },
     "execution_count": 37,
     "metadata": {},
     "output_type": "execute_result"
    },
    {
     "data": {
      "image/png": "[encoded data removed]",
      "text/plain": [
       "<Figure size 432x288 with 1 Axes>"
      ]
     },
     "metadata": {
      "needs_background": "light"
     },
     "output_type": "display_data"
    }
   ],
   "source": [
    "cv_scores = cross_val_score(dtc, _testdata, _testlabel)\n",
    "sns.distplot(cv_scores)\n",
    "plt.title('Average score: {}'.format(np.mean(cv_scores)))"
   ]
  },
  {
   "cell_type": "code",
   "execution_count": 6,
   "metadata": {},
   "outputs": [
    {
     "ename": "ModuleNotFoundError",
     "evalue": "No module named 'genetic_selection'",
     "output_type": "error",
     "traceback": [
      "\u001b[1;31m---------------------------------------------------------------------------\u001b[0m",
      "\u001b[1;31mModuleNotFoundError\u001b[0m                       Traceback (most recent call last)",
      "\u001b[1;32m<ipython-input-6-998d0a1ebe20>\u001b[0m in \u001b[0;36m<module>\u001b[1;34m\u001b[0m\n\u001b[1;32m----> 1\u001b[1;33m \u001b[1;32mfrom\u001b[0m \u001b[0mgenetic_selection\u001b[0m \u001b[1;32mimport\u001b[0m \u001b[0mGeneticSelectionCV\u001b[0m\u001b[1;33m\u001b[0m\u001b[1;33m\u001b[0m\u001b[0m\n\u001b[0m",
      "\u001b[1;31mModuleNotFoundError\u001b[0m: No module named 'genetic_selection'"
     ]
    }
   ],
   "source": []
  },
  {
   "cell_type": "code",
   "execution_count": 7,
   "metadata": {},
   "outputs": [
    {
     "data": {
      "text/plain": [
       "Pipeline(steps=[('standardscaler', StandardScaler()),\n",
       "                ('svc', SVC(gamma='auto'))])"
      ]
     },
     "execution_count": 7,
     "metadata": {},
     "output_type": "execute_result"
    }
   ],
   "source": [
    "from sklearn.pipeline import make_pipeline\n",
    "from sklearn.preprocessing import StandardScaler\n",
    "from sklearn.svm import SVC\n",
    "clfSVM = make_pipeline(StandardScaler(), SVC(gamma='auto'))\n",
    "clfSVM.fit(_traindata, _trainlabel)"
   ]
  },
  {
   "cell_type": "code",
   "execution_count": null,
   "metadata": {},
   "outputs": [],
   "source": [
    "from sklearn.metrics import confusion_matrix, zero_one_loss, accuracy_score\n",
    "predSVM = clfSVM.predict(_testdata)\n",
    "results = confusion_matrix(_testlabel, predSVM)\n",
    "error = zero_one_loss(_testlabel, predSVM)\n",
    "accuracy_score = accuracy_score(_testlabel, predSVM)\n",
    "print(\"Decision Tree Classifier Results\\n======================\\nConfusion Matrix:\\n{}\\nError Value:{}\\nAccuracy_Score:{}\\n\".format(results, error, accuracy_score))"
   ]
  },
  {
   "cell_type": "code",
   "execution_count": null,
   "metadata": {},
   "outputs": [],
   "source": [
    "from sklearn.model_selection import StratifiedKFold, GridSearchCV, RandomizedSearchCV\n",
    "from sklearn.svm import SVC\n",
    "\n",
    "paramgrid = {\"kernel\": [\"rbf\", \"sigmoid\", \"linear\"],\n",
    "             \"C\": np.logspace(-9, 9, num=25, base=10),\n",
    "             \"gamma\": np.logspace(-9, 9, num=25, base=10)}\n",
    "print(\"Size: \", len(paramgrid[\"kernel\"]) * len(paramgrid[\"C\"]) * len(paramgrid[\"gamma\"]))\n",
    "\n",
    "cv = GeneticSearchCV(estimator=SVC(),\n",
    "                     params=paramgrid,\n",
    "                     scoring=\"accuracy\",\n",
    "                     cv=StratifiedKFold(n_splits=2),\n",
    "                     verbose=True,\n",
    "                     population_size=50,\n",
    "                     gene_mutation_prob=0.10,\n",
    "                     tournament_size=3,\n",
    "                     generations_number=10)\n",
    "\n",
    "print(cv.fit(_traindata, _trainlabel))\n",
    "print(cv.best_score_, cv.best_params_)\n",
    "\n",
    "print(pd.DataFrame(cv.cv_results_).sort_values(\"mean_test_score\", ascending=False).head())"
   ]
  }
 ],
 "metadata": {
  "kernelspec": {
   "display_name": "Python 3",
   "language": "python",
   "name": "python3"
  },
  "language_info": {
   "codemirror_mode": {
    "name": "ipython",
    "version": 3
   },
   "file_extension": ".py",
   "mimetype": "text/x-python",
   "name": "python",
   "nbconvert_exporter": "python",
   "pygments_lexer": "ipython3",
   "version": "3.8.5"
  }
 },
 "nbformat": 4,
 "nbformat_minor": 4
}
