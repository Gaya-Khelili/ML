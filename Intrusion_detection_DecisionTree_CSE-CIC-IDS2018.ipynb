{
 "cells": [
  {
   "cell_type": "code",
   "execution_count": 33,
   "metadata": {},
   "outputs": [],
   "source": [
    "import numpy as np\n",
    "import pandas as pd\n",
    "from sklearn.model_selection import train_test_split\n",
    "from sklearn.preprocessing import MinMaxScaler, StandardScaler\n",
    "from sklearn.metrics import classification_report\n",
    "from sklearn.svm import OneClassSVM\n",
    "from sklearn.pipeline import Pipeline\n",
    "import os\n",
    "import glob\n",
    "import csv\n",
    "import seaborn as sns\n",
    "import matplotlib.pyplot as plt\n",
    "from sklearn import preprocessing\n",
    "from sklearn import tree"
   ]
  },
  {
   "cell_type": "code",
   "execution_count": 34,
   "metadata": {},
   "outputs": [],
   "source": [
    "os.chdir(\"D:/Data\")\n",
    "csv_data_path = 'D:/Data/'"
   ]
  },
  {
   "cell_type": "code",
   "execution_count": 35,
   "metadata": {},
   "outputs": [
    {
     "data": {
      "text/plain": [
       "(79999, 81)"
      ]
     },
     "execution_count": 35,
     "metadata": {},
     "output_type": "execute_result"
    }
   ],
   "source": [
    "traindata = pd.read_csv('D:/Data/preprocessed_train_DT_2018.csv')\n",
    "testdata = pd.read_csv('D:/Data/preprocessed_test_DT_2018.csv')\n",
    "traindata.pop(\"Unnamed: 0\")\n",
    "testdata.pop(\"Unnamed: 0\")\n",
    "\n",
    "traindata.shape"
   ]
  },
  {
   "cell_type": "code",
   "execution_count": 36,
   "metadata": {},
   "outputs": [
    {
     "data": {
      "text/plain": [
       "(20000, 81)"
      ]
     },
     "execution_count": 36,
     "metadata": {},
     "output_type": "execute_result"
    }
   ],
   "source": [
    "testdata.shape"
   ]
  },
  {
   "cell_type": "code",
   "execution_count": 37,
   "metadata": {},
   "outputs": [
    {
     "name": "stdout",
     "output_type": "stream",
     "text": [
      "<class 'pandas.core.frame.DataFrame'>\n",
      "RangeIndex: 79999 entries, 0 to 79998\n",
      "Data columns (total 80 columns):\n",
      " #   Column             Non-Null Count  Dtype  \n",
      "---  ------             --------------  -----  \n",
      " 0   Dst Port           79999 non-null  int64  \n",
      " 1   Flow Duration      79999 non-null  int64  \n",
      " 2   Tot Fwd Pkts       79999 non-null  int64  \n",
      " 3   Tot Bwd Pkts       79999 non-null  int64  \n",
      " 4   TotLen Fwd Pkts    79999 non-null  int64  \n",
      " 5   TotLen Bwd Pkts    79999 non-null  int64  \n",
      " 6   Fwd Pkt Len Max    79999 non-null  int64  \n",
      " 7   Fwd Pkt Len Min    79999 non-null  int64  \n",
      " 8   Fwd Pkt Len Mean   79999 non-null  float64\n",
      " 9   Fwd Pkt Len Std    79999 non-null  float64\n",
      " 10  Bwd Pkt Len Max    79999 non-null  int64  \n",
      " 11  Bwd Pkt Len Min    79999 non-null  int64  \n",
      " 12  Bwd Pkt Len Mean   79999 non-null  float64\n",
      " 13  Bwd Pkt Len Std    79999 non-null  float64\n",
      " 14  Flow Byts/s        79999 non-null  float64\n",
      " 15  Flow Pkts/s        79999 non-null  float64\n",
      " 16  Flow IAT Mean      79999 non-null  float64\n",
      " 17  Flow IAT Std       79999 non-null  float64\n",
      " 18  Flow IAT Max       79999 non-null  int64  \n",
      " 19  Flow IAT Min       79999 non-null  int64  \n",
      " 20  Fwd IAT Tot        79999 non-null  int64  \n",
      " 21  Fwd IAT Mean       79999 non-null  float64\n",
      " 22  Fwd IAT Std        79999 non-null  float64\n",
      " 23  Fwd IAT Max        79999 non-null  int64  \n",
      " 24  Fwd IAT Min        79999 non-null  int64  \n",
      " 25  Bwd IAT Tot        79999 non-null  int64  \n",
      " 26  Bwd IAT Mean       79999 non-null  float64\n",
      " 27  Bwd IAT Std        79999 non-null  float64\n",
      " 28  Bwd IAT Max        79999 non-null  int64  \n",
      " 29  Bwd IAT Min        79999 non-null  int64  \n",
      " 30  Fwd PSH Flags      79999 non-null  int64  \n",
      " 31  Bwd PSH Flags      79999 non-null  int64  \n",
      " 32  Fwd URG Flags      79999 non-null  int64  \n",
      " 33  Bwd URG Flags      79999 non-null  int64  \n",
      " 34  Fwd Header Len     79999 non-null  int64  \n",
      " 35  Bwd Header Len     79999 non-null  int64  \n",
      " 36  Fwd Pkts/s         79999 non-null  float64\n",
      " 37  Bwd Pkts/s         79999 non-null  float64\n",
      " 38  Pkt Len Min        79999 non-null  int64  \n",
      " 39  Pkt Len Max        79999 non-null  int64  \n",
      " 40  Pkt Len Mean       79999 non-null  float64\n",
      " 41  Pkt Len Std        79999 non-null  float64\n",
      " 42  Pkt Len Var        79999 non-null  float64\n",
      " 43  FIN Flag Cnt       79999 non-null  int64  \n",
      " 44  SYN Flag Cnt       79999 non-null  int64  \n",
      " 45  RST Flag Cnt       79999 non-null  int64  \n",
      " 46  PSH Flag Cnt       79999 non-null  int64  \n",
      " 47  ACK Flag Cnt       79999 non-null  int64  \n",
      " 48  URG Flag Cnt       79999 non-null  int64  \n",
      " 49  CWE Flag Count     79999 non-null  int64  \n",
      " 50  ECE Flag Cnt       79999 non-null  int64  \n",
      " 51  Down/Up Ratio      79999 non-null  int64  \n",
      " 52  Pkt Size Avg       79999 non-null  float64\n",
      " 53  Fwd Seg Size Avg   79999 non-null  float64\n",
      " 54  Bwd Seg Size Avg   79999 non-null  float64\n",
      " 55  Fwd Byts/b Avg     79999 non-null  int64  \n",
      " 56  Fwd Pkts/b Avg     79999 non-null  int64  \n",
      " 57  Fwd Blk Rate Avg   79999 non-null  int64  \n",
      " 58  Bwd Byts/b Avg     79999 non-null  int64  \n",
      " 59  Bwd Pkts/b Avg     79999 non-null  int64  \n",
      " 60  Bwd Blk Rate Avg   79999 non-null  int64  \n",
      " 61  Subflow Fwd Pkts   79999 non-null  int64  \n",
      " 62  Subflow Fwd Byts   79999 non-null  int64  \n",
      " 63  Subflow Bwd Pkts   79999 non-null  int64  \n",
      " 64  Subflow Bwd Byts   79999 non-null  int64  \n",
      " 65  Init Fwd Win Byts  79999 non-null  int64  \n",
      " 66  Init Bwd Win Byts  79999 non-null  int64  \n",
      " 67  Fwd Act Data Pkts  79999 non-null  int64  \n",
      " 68  Fwd Seg Size Min   79999 non-null  int64  \n",
      " 69  Active Mean        79999 non-null  float64\n",
      " 70  Active Std         79999 non-null  float64\n",
      " 71  Active Max         79999 non-null  int64  \n",
      " 72  Active Min         79999 non-null  int64  \n",
      " 73  Idle Mean          79999 non-null  float64\n",
      " 74  Idle Std           79999 non-null  float64\n",
      " 75  Idle Max           79999 non-null  int64  \n",
      " 76  Idle Min           79999 non-null  int64  \n",
      " 77  Protocol_0         79999 non-null  int64  \n",
      " 78  Protocol_6         79999 non-null  int64  \n",
      " 79  Protocol_17        79999 non-null  int64  \n",
      "dtypes: float64(24), int64(56)\n",
      "memory usage: 48.8 MB\n"
     ]
    }
   ],
   "source": [
    "Y = traindata.pop('Label')\n",
    "X = traindata.iloc[:,0:82]\n",
    "C = testdata.pop('Label')\n",
    "T = testdata.iloc[:,0:82]\n",
    "\n",
    "X.info(verbose=True)"
   ]
  },
  {
   "cell_type": "code",
   "execution_count": 38,
   "metadata": {},
   "outputs": [
    {
     "data": {
      "text/plain": [
       "array([0, 0, 0, ..., 1, 1, 1], dtype=int64)"
      ]
     },
     "execution_count": 38,
     "metadata": {},
     "output_type": "execute_result"
    }
   ],
   "source": [
    "_traindata = np.array(X)\n",
    "_trainlabel = np.array(Y)\n",
    "_traindata = X.replace((np.inf, -np.inf, np.nan), 0).reset_index(drop=True)\n",
    "_testdata = np.array(T)\n",
    "_testlabel = np.array(C)\n",
    "_testdata = T.replace((np.inf, -np.inf, np.nan), 0).reset_index(drop=True)\n",
    "_trainlabel"
   ]
  },
  {
   "cell_type": "code",
   "execution_count": 39,
   "metadata": {},
   "outputs": [],
   "source": [
    "#Normalization des données d'apprentissage\n",
    "#données des features\n",
    "from sklearn import preprocessing\n",
    "_traindataNp = _traindata.values #returns a numpy array\n",
    "min_max_scaler = preprocessing.MinMaxScaler()\n",
    "_traindata_scaled = min_max_scaler.fit_transform(_traindataNp)"
   ]
  },
  {
   "cell_type": "code",
   "execution_count": 40,
   "metadata": {},
   "outputs": [],
   "source": [
    "#données des tests\n",
    "_testdata_np = _testdata.values #returns a numpy array\n",
    "min_max_scaler = preprocessing.MinMaxScaler()\n",
    "_testdata_scaled = min_max_scaler.fit_transform(_testdata_np)"
   ]
  },
  {
   "cell_type": "code",
   "execution_count": 41,
   "metadata": {},
   "outputs": [],
   "source": [
    "from sklearn.model_selection import train_test_split\n",
    "from sklearn import preprocessing\n",
    "from sklearn.pipeline import make_pipeline, Pipeline\n",
    "from sklearn.model_selection import GridSearchCV\n",
    "from sklearn.metrics import mean_squared_error, r2_score\n",
    "from sklearn.pipeline import Pipeline\n",
    "# 5. Declare data preprocessing steps\n",
    "dec_tree = tree.DecisionTreeClassifier()\n",
    "pipe = Pipeline(steps=[('min_max_scaler', min_max_scaler),('dec_tree', dec_tree)])\n",
    "criterion = ['gini', 'entropy']\n",
    "max_depth = [2,4,6,8,10,12]\n",
    "# Add a dict of estimator and estimator related parameters in this list\n",
    "parameters = dict(\n",
    "                      dec_tree__criterion=criterion,\n",
    "                      dec_tree__max_depth=max_depth)"
   ]
  },
  {
   "cell_type": "code",
   "execution_count": 42,
   "metadata": {},
   "outputs": [
    {
     "name": "stdout",
     "output_type": "stream",
     "text": [
      "Fitting 10 folds for each of 12 candidates, totalling 120 fits\n"
     ]
    },
    {
     "name": "stderr",
     "output_type": "stream",
     "text": [
      "[Parallel(n_jobs=-1)]: Using backend LokyBackend with 8 concurrent workers.\n",
      "[Parallel(n_jobs=-1)]: Done  34 tasks      | elapsed:    9.3s\n",
      "[Parallel(n_jobs=-1)]: Done 120 out of 120 | elapsed:   43.2s finished\n"
     ]
    },
    {
     "data": {
      "text/plain": [
       "GridSearchCV(cv=10,\n",
       "             estimator=Pipeline(steps=[('min_max_scaler', MinMaxScaler()),\n",
       "                                       ('dec_tree', DecisionTreeClassifier())]),\n",
       "             n_jobs=-1,\n",
       "             param_grid={'dec_tree__criterion': ['gini', 'entropy'],\n",
       "                         'dec_tree__max_depth': [2, 4, 6, 8, 10, 12]},\n",
       "             verbose=1)"
      ]
     },
     "execution_count": 42,
     "metadata": {},
     "output_type": "execute_result"
    }
   ],
   "source": [
    "\n",
    "clf = GridSearchCV(pipe, parameters, cv=10,verbose=1,n_jobs=-1)\n",
    "clf.fit(_traindata, _trainlabel)"
   ]
  },
  {
   "cell_type": "code",
   "execution_count": 43,
   "metadata": {},
   "outputs": [
    {
     "name": "stdout",
     "output_type": "stream",
     "text": [
      "True\n",
      "0.99755\n"
     ]
    }
   ],
   "source": [
    "print (clf.refit)\n",
    " \n",
    "# 9. Evaluate model pipeline on test data\n",
    "pred = clf.predict(_testdata)\n",
    "from sklearn.metrics import accuracy_score\n",
    "print(accuracy_score(_testlabel, pred))"
   ]
  },
  {
   "cell_type": "code",
   "execution_count": 44,
   "metadata": {},
   "outputs": [
    {
     "data": {
      "text/plain": [
       "['dt_intrusion_detection_binary_classification.pkl']"
      ]
     },
     "execution_count": 44,
     "metadata": {},
     "output_type": "execute_result"
    }
   ],
   "source": [
    "#  Save model for future use\n",
    "from joblib import dump, load\n",
    "dump(clf, 'dt_intrusion_detection_binary_classification.pkl')"
   ]
  },
  {
   "cell_type": "code",
   "execution_count": 45,
   "metadata": {},
   "outputs": [
    {
     "name": "stdout",
     "output_type": "stream",
     "text": [
      "Best Criterion: entropy\n",
      "Best max_depth: 12\n",
      "\n",
      "DecisionTreeClassifier(criterion='entropy', max_depth=12)\n"
     ]
    }
   ],
   "source": [
    "print('Best Criterion:', clf.best_estimator_.get_params()['dec_tree__criterion'])\n",
    "print('Best max_depth:', clf.best_estimator_.get_params()['dec_tree__max_depth'])\n",
    "print(); print(clf.best_estimator_.get_params()['dec_tree'])"
   ]
  },
  {
   "cell_type": "code",
   "execution_count": 46,
   "metadata": {},
   "outputs": [
    {
     "name": "stdout",
     "output_type": "stream",
     "text": [
      "              precision    recall  f1-score   support\n",
      "\n",
      "           0       1.00      1.00      1.00      8617\n",
      "           1       1.00      1.00      1.00     11383\n",
      "\n",
      "    accuracy                           1.00     20000\n",
      "   macro avg       1.00      1.00      1.00     20000\n",
      "weighted avg       1.00      1.00      1.00     20000\n",
      "\n",
      "[[ 8609     8]\n",
      " [   41 11342]]\n"
     ]
    }
   ],
   "source": [
    "from sklearn.metrics import confusion_matrix,classification_report\n",
    "\n",
    "cm = confusion_matrix(_testlabel, pred)\n",
    "print(classification_report(_testlabel, pred))\n",
    "print(cm)"
   ]
  },
  {
   "cell_type": "code",
   "execution_count": 23,
   "metadata": {},
   "outputs": [],
   "source": [
    "clfDT = tree.DecisionTreeClassifier(class_weight=None, criterion='entropy', max_depth=12)\n",
    "clfDT = clfDT.fit(_traindata, _trainlabel)"
   ]
  },
  {
   "cell_type": "code",
   "execution_count": 31,
   "metadata": {},
   "outputs": [
    {
     "name": "stdout",
     "output_type": "stream",
     "text": [
      "0.9975\n"
     ]
    }
   ],
   "source": [
    "# 9. Evaluate model pipeline on test data\n",
    "pred = clfDT.predict(_testdata)\n",
    "\n",
    "\n",
    "from sklearn.metrics import accuracy_score\n",
    "print(accuracy_score(_testlabel, pred))"
   ]
  },
  {
   "cell_type": "code",
   "execution_count": 32,
   "metadata": {},
   "outputs": [
    {
     "name": "stdout",
     "output_type": "stream",
     "text": [
      "              precision    recall  f1-score   support\n",
      "\n",
      "           0       1.00      1.00      1.00      8617\n",
      "           1       1.00      1.00      1.00     11383\n",
      "\n",
      "    accuracy                           1.00     20000\n",
      "   macro avg       1.00      1.00      1.00     20000\n",
      "weighted avg       1.00      1.00      1.00     20000\n",
      "\n",
      "[[ 8607    10]\n",
      " [   40 11343]]\n"
     ]
    }
   ],
   "source": [
    "from sklearn.metrics import confusion_matrix,classification_report\n",
    "\n",
    "cm = confusion_matrix(_testlabel, pred)\n",
    "print(classification_report(_testlabel, pred))\n",
    "print(cm)"
   ]
  },
  {
   "cell_type": "code",
   "execution_count": 37,
   "metadata": {},
   "outputs": [
    {
     "name": "stdout",
     "output_type": "stream",
     "text": [
      "Area under the ROC curve : 0.998964\n"
     ]
    },
    {
     "data": {
      "image/png": "[encoded data removed]",
      "text/plain": [
       "<Figure size 432x288 with 1 Axes>"
      ]
     },
     "metadata": {
      "needs_background": "light"
     },
     "output_type": "display_data"
    }
   ],
   "source": [
    "from sklearn.metrics import roc_curve, auc\n",
    "\n",
    "probas = clfDT.predict_proba(_testdata)\n",
    "# probas est une matrice de deux colonnes avec la proabilités d'appartenance à chaque classe\n",
    "\n",
    "fpr, tpr, thresholds = roc_curve(_testlabel.ravel(), probas[:, 1])\n",
    "roc_auc = auc(fpr, tpr)\n",
    "print(\"Area under the ROC curve : %f\" % roc_auc)\n",
    "\n",
    "plt.plot(fpr, tpr, label='ROC curve (area = %0.2f)' % roc_auc)\n",
    "plt.plot([0, 1], [0, 1], 'k--')\n",
    "plt.xlim([0.0, 1.0])\n",
    "plt.ylim([0.0, 1.0])\n",
    "plt.xlabel('False Positive Rate')\n",
    "plt.ylabel('True Positive Rate')\n",
    "plt.title('Receiver operating characteristic example')\n",
    "plt.legend(loc=\"lower right\");"
   ]
  },
  {
   "cell_type": "code",
   "execution_count": null,
   "metadata": {},
   "outputs": [],
   "source": [
    "#Méthode avec GA"
   ]
  },
  {
   "cell_type": "code",
   "execution_count": 22,
   "metadata": {},
   "outputs": [
    {
     "name": "stdout",
     "output_type": "stream",
     "text": [
      "Selecting features with genetic algorithm.\n",
      "gen\tnevals\tavg                      \tstd                    \tmin                    \tmax                      \n",
      "0  \t50    \t[ 0.93579418 11.64      ]\t[0.08630556 5.42497926]\t[0.62987059 1.        ]\t[ 0.99792497 20.        ]\n",
      "1  \t38    \t[ 0.98768118 14.7       ]\t[0.01402055 2.83725219]\t[0.93852472 9.        ]\t[ 0.99794997 20.        ]\n",
      "2  \t32    \t[ 0.99648547 16.24      ]\t[0.00420147 2.11243935]\t[ 0.97908747 11.        ]\t[ 0.99794997 20.        ]\n",
      "3  \t29    \t[ 0.99789097 16.88      ]\t[5.94298279e-05 1.77358394e+00]\t[ 0.99767495 14.        ]\t[ 0.99796248 20.        ]\n",
      "4  \t21    \t[ 0.99789497 17.02      ]\t[2.12974021e-04 1.84921605e+00]\t[ 0.99642495 14.        ]\t[ 0.99796248 20.        ]\n",
      "5  \t27    \t[ 0.99626596 17.04      ]\t[0.00810512 1.6365818 ]        \t[ 0.95546223 15.        ]\t[ 0.99796248 20.        ]\n",
      "6  \t30    \t[ 0.99688897 17.26      ]\t[0.0058074  1.46710599]        \t[ 0.95768722 14.        ]\t[ 0.99798747 20.        ]\n",
      "7  \t30    \t[ 0.99791272 17.66      ]\t[4.90242043e-05 1.66865215e+00]\t[ 0.99778747 14.        ]\t[ 0.99798747 20.        ]\n",
      "8  \t28    \t[ 0.99703772 17.66      ]\t[0.00562129 1.79566144]        \t[ 0.95778723 14.        ]\t[ 0.99798747 20.        ]\n",
      "9  \t31    \t[ 0.99726722 18.38      ]\t[0.00291175 1.67200478]        \t[ 0.98016246 14.        ]\t[ 0.99798747 20.        ]\n",
      "10 \t25    \t[ 0.99750947 18.54      ]\t[0.00267244 1.60262285]        \t[ 0.97886246 14.        ]\t[ 0.99798747 20.        ]\n",
      "11 \t29    \t[ 0.99727547 18.56      ]\t[0.0029109  1.18591737]        \t[ 0.98017496 15.        ]\t[ 0.99798747 20.        ]\n",
      "12 \t31    \t[ 0.99792572 18.94      ]\t[5.40520521e-05 6.75573830e-01]\t[ 0.99779996 17.        ]\t[ 0.99798747 20.        ]\n",
      "13 \t33    \t[ 0.99779797 18.82      ]\t[0.00054179 0.38418745]        \t[ 0.99527494 18.        ]\t[ 0.99798747 19.        ]\n",
      "14 \t23    \t[ 0.99789797 18.9       ]\t[2.24244001e-04 3.60555128e-01]\t[ 0.99636245 17.        ]\t[ 0.99798747 19.        ]\n",
      "15 \t27    \t[ 0.99745672 18.78      ]\t[0.00268013 0.72910905]        \t[ 0.97899997 15.        ]\t[ 0.99798747 19.        ]\n",
      "16 \t27    \t[ 0.99789747 18.72      ]\t[2.29529075e-04 6.01331855e-01]\t[ 0.99633744 17.        ]\t[ 0.99798747 19.        ]\n",
      "17 \t25    \t[ 0.99751172 18.56      ]\t[0.00250032 0.85229103]        \t[ 0.98022496 15.        ]\t[ 0.99798747 19.        ]\n",
      "18 \t26    \t[ 0.99675397 18.6       ]\t[0.00823472 0.52915026]        \t[ 0.93911222 17.        ]\t[ 0.99798747 19.        ]\n",
      "19 \t27    \t[ 0.99661772 18.32      ]\t[0.00617322 0.73321211]        \t[ 0.95776223 16.        ]\t[ 0.99798747 19.        ]\n",
      "20 \t37    \t[ 0.99680146 18.14      ]\t[0.00595676 1.00019998]        \t[ 0.95652473 15.        ]\t[ 0.99798747 19.        ]\n",
      "21 \t25    \t[ 0.99791697 18.4       ]\t[4.73553919e-05 6.63324958e-01]\t[ 0.99778746 17.        ]\t[ 0.99798747 20.        ]\n",
      "22 \t24    \t[ 0.99793047 18.14      ]\t[7.01017156e-05 6.32771681e-01]\t[ 0.99762495 16.        ]\t[ 0.99798747 19.        ]\n",
      "23 \t33    \t[ 0.99769097 17.96      ]\t[0.00151419 0.77356318]        \t[ 0.98709993 15.        ]\t[ 0.99798747 19.        ]\n",
      "24 \t33    \t[ 0.99742422 17.9       ]\t[0.00280686 0.87749644]        \t[ 0.97807496 15.        ]\t[ 0.99798747 19.        ]\n",
      "25 \t33    \t[ 0.99784922 17.92      ]\t[4.02333864e-04 7.95989950e-01]\t[ 0.99546247 15.        ]\t[ 0.99798747 20.        ]\n",
      "GeneticSelectionCV(caching=True, crossover_independent_proba=0.5, cv=10,\n",
      "                   estimator=DecisionTreeClassifier(criterion='entropy',\n",
      "                                                    max_depth=12),\n",
      "                   max_features=20, n_gen_no_change=10, n_jobs=-1,\n",
      "                   n_population=50, scoring='accuracy', verbose=1)\n"
     ]
    }
   ],
   "source": [
    "from genetic_selection import GeneticSelectionCV\n",
    "from sklearn.model_selection import StratifiedKFold, GridSearchCV, RandomizedSearchCV\n",
    "from sklearn.model_selection import GridSearchCV\n",
    "from sklearn import datasets\n",
    "estimator = tree.DecisionTreeClassifier(class_weight=None, criterion='entropy', max_depth=12)\n",
    "cv = GeneticSelectionCV(estimator,\n",
    "                                  cv=10,\n",
    "                                  verbose=1,\n",
    "                                  scoring=\"accuracy\",\n",
    "                                  max_features=20,\n",
    "                                  n_population=50,\n",
    "                                  crossover_proba=0.5,\n",
    "                                  mutation_proba=0.2,\n",
    "                                  n_generations=40,\n",
    "                                  crossover_independent_proba=0.5,\n",
    "                                  mutation_independent_proba=0.05,\n",
    "                                  tournament_size=3,\n",
    "                                  n_gen_no_change=10,\n",
    "                                  caching=True,\n",
    "                                  n_jobs=-1)\n",
    "\n",
    "print(cv.fit(_traindata, _trainlabel))"
   ]
  },
  {
   "cell_type": "code",
   "execution_count": 23,
   "metadata": {},
   "outputs": [
    {
     "name": "stdout",
     "output_type": "stream",
     "text": [
      "Chosen Feats:   ['Dst Port', 'Tot Bwd Pkts', 'Fwd Pkt Len Std', 'Bwd Pkt Len Min', 'Bwd IAT Max', 'Bwd Pkts/s', 'Pkt Len Min', 'URG Flag Cnt', 'ECE Flag Cnt', 'Down/Up Ratio', 'Pkt Size Avg', 'Bwd Blk Rate Avg', 'Init Fwd Win Byts', 'Init Bwd Win Byts', 'Active Mean', 'Active Min', 'Protocol_6', 'Protocol_17']\n",
      "score 0.9979874749968747\n"
     ]
    }
   ],
   "source": [
    "genfeats = _traindata.columns[cv.support_]\n",
    "genfeats = list(genfeats)\n",
    "print(\"Chosen Feats:  \", genfeats)\n",
    "#Le dernier score MCC (Matthews correlation coefficient) comme score final du modèle, qui est le meilleur\n",
    "cv_score = cv.generation_scores_[-1]\n",
    "print(\"score\",cv_score) "
   ]
  },
  {
   "cell_type": "code",
   "execution_count": 24,
   "metadata": {},
   "outputs": [
    {
     "name": "stdout",
     "output_type": "stream",
     "text": [
      " Results\n",
      "======================\n",
      "Confusion Matrix:\n",
      "[[ 8613     4]\n",
      " [   37 11346]]\n",
      "Error Value:0.0020499999999999963\n",
      "Accuracy_Score:0.99795\n",
      "\n"
     ]
    }
   ],
   "source": [
    "from sklearn.metrics import confusion_matrix, zero_one_loss, accuracy_score,classification_report\n",
    "\n",
    "\n",
    "pred = cv.predict(_testdata)\n",
    "results = confusion_matrix(_testlabel, pred)\n",
    "error = zero_one_loss(_testlabel, pred)\n",
    "accuracy_score = accuracy_score(_testlabel, pred)\n",
    "print(\" Results\\n======================\\nConfusion Matrix:\\n{}\\nError Value:{}\\nAccuracy_Score:{}\\n\".format(results, error, accuracy_score))\n"
   ]
  },
  {
   "cell_type": "code",
   "execution_count": 13,
   "metadata": {},
   "outputs": [],
   "source": [
    "#apprentissage du Decision Tree avec la selection de variable de GA"
   ]
  },
  {
   "cell_type": "code",
   "execution_count": 25,
   "metadata": {},
   "outputs": [
    {
     "data": {
      "text/plain": [
       "0            9\n",
       "1           20\n",
       "2           22\n",
       "3           23\n",
       "4           25\n",
       "         ...  \n",
       "19995    99985\n",
       "19996    99987\n",
       "19997    99990\n",
       "19998    99993\n",
       "19999    99996\n",
       "Name: Unnamed: 0, Length: 20000, dtype: int64"
      ]
     },
     "execution_count": 25,
     "metadata": {},
     "output_type": "execute_result"
    }
   ],
   "source": [
    "traindata = pd.read_csv('D:/Data/preprocessed_train_DT_2018.csv')\n",
    "testdata = pd.read_csv('D:/Data/preprocessed_test_DT_2018.csv')\n",
    "traindata.pop(\"Unnamed: 0\")\n",
    "testdata.pop(\"Unnamed: 0\")"
   ]
  },
  {
   "cell_type": "code",
   "execution_count": 26,
   "metadata": {},
   "outputs": [],
   "source": [
    "Y = traindata.pop('Label')\n",
    "X = traindata.iloc[:,0:82]\n",
    "X = traindata[['Dst Port', 'Tot Bwd Pkts', 'Fwd Pkt Len Std', 'Bwd Pkt Len Min', 'Bwd IAT Max', 'Bwd Pkts/s', 'Pkt Len Min', 'URG Flag Cnt', 'ECE Flag Cnt', 'Down/Up Ratio', 'Pkt Size Avg', 'Bwd Blk Rate Avg', 'Init Fwd Win Byts', 'Init Bwd Win Byts', 'Active Mean', 'Active Min', 'Protocol_6', 'Protocol_17']]\n",
    "C = testdata.pop('Label')\n",
    "T = testdata.iloc[:,0:82]\n",
    "T = testdata[['Dst Port', 'Tot Bwd Pkts', 'Fwd Pkt Len Std', 'Bwd Pkt Len Min', 'Bwd IAT Max', 'Bwd Pkts/s', 'Pkt Len Min', 'URG Flag Cnt', 'ECE Flag Cnt', 'Down/Up Ratio', 'Pkt Size Avg', 'Bwd Blk Rate Avg', 'Init Fwd Win Byts', 'Init Bwd Win Byts', 'Active Mean', 'Active Min', 'Protocol_6', 'Protocol_17']]\n",
    "\n"
   ]
  },
  {
   "cell_type": "code",
   "execution_count": 27,
   "metadata": {},
   "outputs": [
    {
     "data": {
      "text/html": [
       "<div>\n",
       "<style scoped>\n",
       "    .dataframe tbody tr th:only-of-type {\n",
       "        vertical-align: middle;\n",
       "    }\n",
       "\n",
       "    .dataframe tbody tr th {\n",
       "        vertical-align: top;\n",
       "    }\n",
       "\n",
       "    .dataframe thead th {\n",
       "        text-align: right;\n",
       "    }\n",
       "</style>\n",
       "<table border=\"1\" class=\"dataframe\">\n",
       "  <thead>\n",
       "    <tr style=\"text-align: right;\">\n",
       "      <th></th>\n",
       "      <th>Dst Port</th>\n",
       "      <th>Tot Bwd Pkts</th>\n",
       "      <th>Fwd Pkt Len Std</th>\n",
       "      <th>Bwd Pkt Len Min</th>\n",
       "      <th>Bwd IAT Max</th>\n",
       "      <th>Bwd Pkts/s</th>\n",
       "      <th>Pkt Len Min</th>\n",
       "      <th>URG Flag Cnt</th>\n",
       "      <th>ECE Flag Cnt</th>\n",
       "      <th>Down/Up Ratio</th>\n",
       "      <th>Pkt Size Avg</th>\n",
       "      <th>Bwd Blk Rate Avg</th>\n",
       "      <th>Init Fwd Win Byts</th>\n",
       "      <th>Init Bwd Win Byts</th>\n",
       "      <th>Active Mean</th>\n",
       "      <th>Active Min</th>\n",
       "      <th>Protocol_6</th>\n",
       "      <th>Protocol_17</th>\n",
       "    </tr>\n",
       "  </thead>\n",
       "  <tbody>\n",
       "    <tr>\n",
       "      <th>0</th>\n",
       "      <td>500</td>\n",
       "      <td>0</td>\n",
       "      <td>0.000000</td>\n",
       "      <td>0</td>\n",
       "      <td>0</td>\n",
       "      <td>0.000000</td>\n",
       "      <td>500</td>\n",
       "      <td>0</td>\n",
       "      <td>0</td>\n",
       "      <td>0</td>\n",
       "      <td>583.333333</td>\n",
       "      <td>0</td>\n",
       "      <td>-1</td>\n",
       "      <td>-1</td>\n",
       "      <td>4000407.0</td>\n",
       "      <td>4000407</td>\n",
       "      <td>0</td>\n",
       "      <td>1</td>\n",
       "    </tr>\n",
       "    <tr>\n",
       "      <th>1</th>\n",
       "      <td>3389</td>\n",
       "      <td>8</td>\n",
       "      <td>196.550183</td>\n",
       "      <td>0</td>\n",
       "      <td>953120</td>\n",
       "      <td>1.957627</td>\n",
       "      <td>0</td>\n",
       "      <td>0</td>\n",
       "      <td>1</td>\n",
       "      <td>0</td>\n",
       "      <td>151.047619</td>\n",
       "      <td>0</td>\n",
       "      <td>8192</td>\n",
       "      <td>62644</td>\n",
       "      <td>0.0</td>\n",
       "      <td>0</td>\n",
       "      <td>1</td>\n",
       "      <td>0</td>\n",
       "    </tr>\n",
       "    <tr>\n",
       "      <th>2</th>\n",
       "      <td>0</td>\n",
       "      <td>0</td>\n",
       "      <td>0.000000</td>\n",
       "      <td>0</td>\n",
       "      <td>0</td>\n",
       "      <td>0.000000</td>\n",
       "      <td>0</td>\n",
       "      <td>0</td>\n",
       "      <td>0</td>\n",
       "      <td>0</td>\n",
       "      <td>0.000000</td>\n",
       "      <td>0</td>\n",
       "      <td>-1</td>\n",
       "      <td>-1</td>\n",
       "      <td>0.0</td>\n",
       "      <td>0</td>\n",
       "      <td>0</td>\n",
       "      <td>0</td>\n",
       "    </tr>\n",
       "    <tr>\n",
       "      <th>3</th>\n",
       "      <td>443</td>\n",
       "      <td>0</td>\n",
       "      <td>17.897858</td>\n",
       "      <td>0</td>\n",
       "      <td>0</td>\n",
       "      <td>0.000000</td>\n",
       "      <td>0</td>\n",
       "      <td>0</td>\n",
       "      <td>0</td>\n",
       "      <td>0</td>\n",
       "      <td>10.333333</td>\n",
       "      <td>0</td>\n",
       "      <td>257</td>\n",
       "      <td>-1</td>\n",
       "      <td>0.0</td>\n",
       "      <td>0</td>\n",
       "      <td>1</td>\n",
       "      <td>0</td>\n",
       "    </tr>\n",
       "    <tr>\n",
       "      <th>4</th>\n",
       "      <td>139</td>\n",
       "      <td>3</td>\n",
       "      <td>0.000000</td>\n",
       "      <td>0</td>\n",
       "      <td>6099854</td>\n",
       "      <td>0.326774</td>\n",
       "      <td>0</td>\n",
       "      <td>0</td>\n",
       "      <td>0</td>\n",
       "      <td>3</td>\n",
       "      <td>0.000000</td>\n",
       "      <td>0</td>\n",
       "      <td>1024</td>\n",
       "      <td>8192</td>\n",
       "      <td>3080815.0</td>\n",
       "      <td>3080815</td>\n",
       "      <td>1</td>\n",
       "      <td>0</td>\n",
       "    </tr>\n",
       "    <tr>\n",
       "      <th>...</th>\n",
       "      <td>...</td>\n",
       "      <td>...</td>\n",
       "      <td>...</td>\n",
       "      <td>...</td>\n",
       "      <td>...</td>\n",
       "      <td>...</td>\n",
       "      <td>...</td>\n",
       "      <td>...</td>\n",
       "      <td>...</td>\n",
       "      <td>...</td>\n",
       "      <td>...</td>\n",
       "      <td>...</td>\n",
       "      <td>...</td>\n",
       "      <td>...</td>\n",
       "      <td>...</td>\n",
       "      <td>...</td>\n",
       "      <td>...</td>\n",
       "      <td>...</td>\n",
       "    </tr>\n",
       "    <tr>\n",
       "      <th>79994</th>\n",
       "      <td>80</td>\n",
       "      <td>0</td>\n",
       "      <td>0.000000</td>\n",
       "      <td>0</td>\n",
       "      <td>0</td>\n",
       "      <td>0.000000</td>\n",
       "      <td>0</td>\n",
       "      <td>0</td>\n",
       "      <td>0</td>\n",
       "      <td>0</td>\n",
       "      <td>0.000000</td>\n",
       "      <td>0</td>\n",
       "      <td>2053</td>\n",
       "      <td>-1</td>\n",
       "      <td>0.0</td>\n",
       "      <td>0</td>\n",
       "      <td>1</td>\n",
       "      <td>0</td>\n",
       "    </tr>\n",
       "    <tr>\n",
       "      <th>79995</th>\n",
       "      <td>80</td>\n",
       "      <td>4</td>\n",
       "      <td>283.533419</td>\n",
       "      <td>0</td>\n",
       "      <td>5000915</td>\n",
       "      <td>0.798844</td>\n",
       "      <td>0</td>\n",
       "      <td>0</td>\n",
       "      <td>1</td>\n",
       "      <td>0</td>\n",
       "      <td>516.222222</td>\n",
       "      <td>0</td>\n",
       "      <td>8192</td>\n",
       "      <td>220</td>\n",
       "      <td>0.0</td>\n",
       "      <td>0</td>\n",
       "      <td>1</td>\n",
       "      <td>0</td>\n",
       "    </tr>\n",
       "    <tr>\n",
       "      <th>79996</th>\n",
       "      <td>80</td>\n",
       "      <td>4</td>\n",
       "      <td>352.000000</td>\n",
       "      <td>0</td>\n",
       "      <td>5005165</td>\n",
       "      <td>0.798316</td>\n",
       "      <td>0</td>\n",
       "      <td>0</td>\n",
       "      <td>1</td>\n",
       "      <td>1</td>\n",
       "      <td>342.125000</td>\n",
       "      <td>0</td>\n",
       "      <td>8192</td>\n",
       "      <td>222</td>\n",
       "      <td>0.0</td>\n",
       "      <td>0</td>\n",
       "      <td>1</td>\n",
       "      <td>0</td>\n",
       "    </tr>\n",
       "    <tr>\n",
       "      <th>79997</th>\n",
       "      <td>80</td>\n",
       "      <td>0</td>\n",
       "      <td>0.000000</td>\n",
       "      <td>0</td>\n",
       "      <td>0</td>\n",
       "      <td>0.000000</td>\n",
       "      <td>0</td>\n",
       "      <td>0</td>\n",
       "      <td>0</td>\n",
       "      <td>0</td>\n",
       "      <td>0.000000</td>\n",
       "      <td>0</td>\n",
       "      <td>2053</td>\n",
       "      <td>-1</td>\n",
       "      <td>0.0</td>\n",
       "      <td>0</td>\n",
       "      <td>1</td>\n",
       "      <td>0</td>\n",
       "    </tr>\n",
       "    <tr>\n",
       "      <th>79998</th>\n",
       "      <td>80</td>\n",
       "      <td>3</td>\n",
       "      <td>202.587759</td>\n",
       "      <td>0</td>\n",
       "      <td>10685</td>\n",
       "      <td>0.597880</td>\n",
       "      <td>0</td>\n",
       "      <td>0</td>\n",
       "      <td>1</td>\n",
       "      <td>0</td>\n",
       "      <td>282.375000</td>\n",
       "      <td>0</td>\n",
       "      <td>8192</td>\n",
       "      <td>219</td>\n",
       "      <td>0.0</td>\n",
       "      <td>0</td>\n",
       "      <td>1</td>\n",
       "      <td>0</td>\n",
       "    </tr>\n",
       "  </tbody>\n",
       "</table>\n",
       "<p>79999 rows × 18 columns</p>\n",
       "</div>"
      ],
      "text/plain": [
       "       Dst Port  Tot Bwd Pkts  Fwd Pkt Len Std  Bwd Pkt Len Min  Bwd IAT Max  \\\n",
       "0           500             0         0.000000                0            0   \n",
       "1          3389             8       196.550183                0       953120   \n",
       "2             0             0         0.000000                0            0   \n",
       "3           443             0        17.897858                0            0   \n",
       "4           139             3         0.000000                0      6099854   \n",
       "...         ...           ...              ...              ...          ...   \n",
       "79994        80             0         0.000000                0            0   \n",
       "79995        80             4       283.533419                0      5000915   \n",
       "79996        80             4       352.000000                0      5005165   \n",
       "79997        80             0         0.000000                0            0   \n",
       "79998        80             3       202.587759                0        10685   \n",
       "\n",
       "       Bwd Pkts/s  Pkt Len Min  URG Flag Cnt  ECE Flag Cnt  Down/Up Ratio  \\\n",
       "0        0.000000          500             0             0              0   \n",
       "1        1.957627            0             0             1              0   \n",
       "2        0.000000            0             0             0              0   \n",
       "3        0.000000            0             0             0              0   \n",
       "4        0.326774            0             0             0              3   \n",
       "...           ...          ...           ...           ...            ...   \n",
       "79994    0.000000            0             0             0              0   \n",
       "79995    0.798844            0             0             1              0   \n",
       "79996    0.798316            0             0             1              1   \n",
       "79997    0.000000            0             0             0              0   \n",
       "79998    0.597880            0             0             1              0   \n",
       "\n",
       "       Pkt Size Avg  Bwd Blk Rate Avg  Init Fwd Win Byts  Init Bwd Win Byts  \\\n",
       "0        583.333333                 0                 -1                 -1   \n",
       "1        151.047619                 0               8192              62644   \n",
       "2          0.000000                 0                 -1                 -1   \n",
       "3         10.333333                 0                257                 -1   \n",
       "4          0.000000                 0               1024               8192   \n",
       "...             ...               ...                ...                ...   \n",
       "79994      0.000000                 0               2053                 -1   \n",
       "79995    516.222222                 0               8192                220   \n",
       "79996    342.125000                 0               8192                222   \n",
       "79997      0.000000                 0               2053                 -1   \n",
       "79998    282.375000                 0               8192                219   \n",
       "\n",
       "       Active Mean  Active Min  Protocol_6  Protocol_17  \n",
       "0        4000407.0     4000407           0            1  \n",
       "1              0.0           0           1            0  \n",
       "2              0.0           0           0            0  \n",
       "3              0.0           0           1            0  \n",
       "4        3080815.0     3080815           1            0  \n",
       "...            ...         ...         ...          ...  \n",
       "79994          0.0           0           1            0  \n",
       "79995          0.0           0           1            0  \n",
       "79996          0.0           0           1            0  \n",
       "79997          0.0           0           1            0  \n",
       "79998          0.0           0           1            0  \n",
       "\n",
       "[79999 rows x 18 columns]"
      ]
     },
     "execution_count": 27,
     "metadata": {},
     "output_type": "execute_result"
    }
   ],
   "source": [
    "_traindata = np.array(X)\n",
    "_trainlabel = np.array(Y)\n",
    "_traindata = X.replace((np.inf, -np.inf, np.nan), 0).reset_index(drop=True)\n",
    "_testdata = np.array(T)\n",
    "_testlabel = np.array(C)\n",
    "_testdata = T.replace((np.inf, -np.inf, np.nan), 0).reset_index(drop=True)\n",
    "_traindata"
   ]
  },
  {
   "cell_type": "code",
   "execution_count": 28,
   "metadata": {},
   "outputs": [],
   "source": [
    "from sklearn.model_selection import train_test_split\n",
    "from sklearn import preprocessing\n",
    "from sklearn.pipeline import make_pipeline, Pipeline\n",
    "from sklearn.model_selection import GridSearchCV\n",
    "from sklearn.metrics import mean_squared_error, r2_score\n",
    "from sklearn.pipeline import Pipeline\n",
    "# 5. Declare data preprocessing steps\n",
    "min_max_scaler = preprocessing.MinMaxScaler()\n",
    "dec_tree = tree.DecisionTreeClassifier()\n",
    "pipe = Pipeline(steps=[('min_max_scaler', min_max_scaler),('dec_tree', dec_tree)])\n",
    "criterion = ['gini', 'entropy']\n",
    "max_depth = [2,4,6,8,10,12]\n",
    "# Add a dict of estimator and estimator related parameters in this list\n",
    "parameters = dict(\n",
    "                      dec_tree__criterion=criterion,\n",
    "                      dec_tree__max_depth=max_depth)"
   ]
  },
  {
   "cell_type": "code",
   "execution_count": 29,
   "metadata": {},
   "outputs": [
    {
     "name": "stdout",
     "output_type": "stream",
     "text": [
      "Fitting 10 folds for each of 12 candidates, totalling 120 fits\n"
     ]
    },
    {
     "name": "stderr",
     "output_type": "stream",
     "text": [
      "[Parallel(n_jobs=-1)]: Using backend LokyBackend with 8 concurrent workers.\n",
      "[Parallel(n_jobs=-1)]: Done  34 tasks      | elapsed:    3.3s\n",
      "[Parallel(n_jobs=-1)]: Done 120 out of 120 | elapsed:    8.8s finished\n"
     ]
    },
    {
     "data": {
      "text/plain": [
       "GridSearchCV(cv=10,\n",
       "             estimator=Pipeline(steps=[('min_max_scaler', MinMaxScaler()),\n",
       "                                       ('dec_tree', DecisionTreeClassifier())]),\n",
       "             n_jobs=-1,\n",
       "             param_grid={'dec_tree__criterion': ['gini', 'entropy'],\n",
       "                         'dec_tree__max_depth': [2, 4, 6, 8, 10, 12]},\n",
       "             verbose=1)"
      ]
     },
     "execution_count": 29,
     "metadata": {},
     "output_type": "execute_result"
    }
   ],
   "source": [
    "clf = GridSearchCV(pipe, parameters, cv=10,verbose=1,n_jobs=-1)\n",
    "clf.fit(_traindata, _trainlabel)"
   ]
  },
  {
   "cell_type": "code",
   "execution_count": 30,
   "metadata": {},
   "outputs": [
    {
     "name": "stdout",
     "output_type": "stream",
     "text": [
      "True\n",
      "0.998\n"
     ]
    }
   ],
   "source": [
    "print (clf.refit)\n",
    " \n",
    "# 9. Evaluate model pipeline on test data\n",
    "pred = clf.predict(_testdata)\n",
    "from sklearn.metrics import accuracy_score\n",
    "print(accuracy_score(_testlabel, pred))"
   ]
  },
  {
   "cell_type": "code",
   "execution_count": 31,
   "metadata": {},
   "outputs": [
    {
     "name": "stdout",
     "output_type": "stream",
     "text": [
      "Best Criterion: entropy\n",
      "Best max_depth: 10\n",
      "\n",
      "DecisionTreeClassifier(criterion='entropy', max_depth=10)\n"
     ]
    }
   ],
   "source": [
    "print('Best Criterion:', clf.best_estimator_.get_params()['dec_tree__criterion'])\n",
    "print('Best max_depth:', clf.best_estimator_.get_params()['dec_tree__max_depth'])\n",
    "print(); print(clf.best_estimator_.get_params()['dec_tree'])"
   ]
  },
  {
   "cell_type": "code",
   "execution_count": 32,
   "metadata": {},
   "outputs": [
    {
     "name": "stdout",
     "output_type": "stream",
     "text": [
      "              precision    recall  f1-score   support\n",
      "\n",
      "           0       1.00      1.00      1.00      8617\n",
      "           1       1.00      1.00      1.00     11383\n",
      "\n",
      "    accuracy                           1.00     20000\n",
      "   macro avg       1.00      1.00      1.00     20000\n",
      "weighted avg       1.00      1.00      1.00     20000\n",
      "\n",
      "[[ 8614     3]\n",
      " [   37 11346]]\n"
     ]
    }
   ],
   "source": [
    "from sklearn.metrics import confusion_matrix,classification_report\n",
    "\n",
    "cm = confusion_matrix(_testlabel, pred)\n",
    "print(classification_report(_testlabel, pred))\n",
    "print(cm)"
   ]
  },
  {
   "cell_type": "code",
   "execution_count": null,
   "metadata": {},
   "outputs": [],
   "source": []
  }
 ],
 "metadata": {
  "kernelspec": {
   "display_name": "Python 3",
   "language": "python",
   "name": "python3"
  },
  "language_info": {
   "codemirror_mode": {
    "name": "ipython",
    "version": 3
   },
   "file_extension": ".py",
   "mimetype": "text/x-python",
   "name": "python",
   "nbconvert_exporter": "python",
   "pygments_lexer": "ipython3",
   "version": "3.8.5"
  }
 },
 "nbformat": 4,
 "nbformat_minor": 4
}
