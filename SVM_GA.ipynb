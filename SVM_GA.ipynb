{
 "cells": [
  {
   "cell_type": "code",
   "execution_count": 19,
   "metadata": {
    "gather": {
     "logged": 1621537049290
    }
   },
   "outputs": [
    {
     "name": "stdout",
     "output_type": "stream",
     "text": [
      "Requirement already satisfied: sklearn-genetic in /anaconda/envs/azureml_py36/lib/python3.6/site-packages (0.4.1)\n",
      "Requirement already satisfied: scikit-learn>=0.20.3 in /anaconda/envs/azureml_py36/lib/python3.6/site-packages (from sklearn-genetic) (0.22.2.post1)\n",
      "Requirement already satisfied: deap>=1.0.2 in /anaconda/envs/azureml_py36/lib/python3.6/site-packages (from sklearn-genetic) (1.3.1)\n",
      "Requirement already satisfied: joblib>=0.11 in /anaconda/envs/azureml_py36/lib/python3.6/site-packages (from scikit-learn>=0.20.3->sklearn-genetic) (0.14.1)\n",
      "Requirement already satisfied: numpy>=1.11.0 in /anaconda/envs/azureml_py36/lib/python3.6/site-packages (from scikit-learn>=0.20.3->sklearn-genetic) (1.18.5)\n",
      "Requirement already satisfied: scipy>=0.17.0 in /anaconda/envs/azureml_py36/lib/python3.6/site-packages (from scikit-learn>=0.20.3->sklearn-genetic) (1.5.2)\n",
      "Note: you may need to restart the kernel to use updated packages.\n"
     ]
    }
   ],
   "source": [
    "pip install sklearn-genetic"
   ]
  },
  {
   "cell_type": "markdown",
   "metadata": {
    "nteract": {
     "transient": {
      "deleting": false
     }
    }
   },
   "source": []
  },
  {
   "cell_type": "code",
   "execution_count": 59,
   "metadata": {
    "collapsed": true,
    "gather": {
     "logged": 1621538657835
    },
    "jupyter": {
     "outputs_hidden": false,
     "source_hidden": false
    },
    "nteract": {
     "transient": {
      "deleting": false
     }
    }
   },
   "outputs": [],
   "source": [
    "import numpy as np\n",
    "import pandas as pd\n",
    "from sklearn.model_selection import train_test_split\n",
    "from sklearn.preprocessing import MinMaxScaler, StandardScaler\n",
    "from sklearn.metrics import classification_report\n",
    "from sklearn.svm import OneClassSVM\n",
    "from sklearn.pipeline import Pipeline\n",
    "import os\n",
    "import glob\n",
    "import csv\n",
    "import seaborn as sns\n",
    "import matplotlib.pyplot as plt\n",
    "from sklearn import preprocessing\n",
    "from sklearn import tree"
   ]
  },
  {
   "cell_type": "code",
   "execution_count": 60,
   "metadata": {
    "collapsed": true,
    "gather": {
     "logged": 1621538660570
    },
    "jupyter": {
     "outputs_hidden": false,
     "source_hidden": false
    },
    "nteract": {
     "transient": {
      "deleting": false
     }
    }
   },
   "outputs": [
    {
     "data": {
      "text/plain": [
       "1    11383\n",
       "0     8617\n",
       "Name: Label, dtype: int64"
      ]
     },
     "execution_count": 60,
     "metadata": {},
     "output_type": "execute_result"
    }
   ],
   "source": [
    "traindata = pd.read_csv('preprocessed_train_DT_2018.csv')\n",
    "testdata = pd.read_csv('preprocessed_test_DT_2018.csv')\n",
    "traindata.pop(\"Unnamed: 0\")\n",
    "testdata.pop(\"Unnamed: 0\")\n",
    "traindata = traindata[20000:50000]\n",
    "testdata = testdata[:20000]\n",
    "traindata.head()\n",
    "testdata['Label'].value_counts()"
   ]
  },
  {
   "cell_type": "code",
   "execution_count": 61,
   "metadata": {
    "collapsed": true,
    "gather": {
     "logged": 1621538660756
    },
    "jupyter": {
     "outputs_hidden": false,
     "source_hidden": false
    },
    "nteract": {
     "transient": {
      "deleting": false
     }
    }
   },
   "outputs": [
    {
     "name": "stdout",
     "output_type": "stream",
     "text": [
      "<class 'pandas.core.frame.DataFrame'>\n",
      "RangeIndex: 30000 entries, 20000 to 49999\n",
      "Data columns (total 80 columns):\n",
      "Dst Port             30000 non-null int64\n",
      "Flow Duration        30000 non-null int64\n",
      "Tot Fwd Pkts         30000 non-null int64\n",
      "Tot Bwd Pkts         30000 non-null int64\n",
      "TotLen Fwd Pkts      30000 non-null int64\n",
      "TotLen Bwd Pkts      30000 non-null int64\n",
      "Fwd Pkt Len Max      30000 non-null int64\n",
      "Fwd Pkt Len Min      30000 non-null int64\n",
      "Fwd Pkt Len Mean     30000 non-null float64\n",
      "Fwd Pkt Len Std      30000 non-null float64\n",
      "Bwd Pkt Len Max      30000 non-null int64\n",
      "Bwd Pkt Len Min      30000 non-null int64\n",
      "Bwd Pkt Len Mean     30000 non-null float64\n",
      "Bwd Pkt Len Std      30000 non-null float64\n",
      "Flow Byts/s          30000 non-null float64\n",
      "Flow Pkts/s          30000 non-null float64\n",
      "Flow IAT Mean        30000 non-null float64\n",
      "Flow IAT Std         30000 non-null float64\n",
      "Flow IAT Max         30000 non-null int64\n",
      "Flow IAT Min         30000 non-null int64\n",
      "Fwd IAT Tot          30000 non-null int64\n",
      "Fwd IAT Mean         30000 non-null float64\n",
      "Fwd IAT Std          30000 non-null float64\n",
      "Fwd IAT Max          30000 non-null int64\n",
      "Fwd IAT Min          30000 non-null int64\n",
      "Bwd IAT Tot          30000 non-null int64\n",
      "Bwd IAT Mean         30000 non-null float64\n",
      "Bwd IAT Std          30000 non-null float64\n",
      "Bwd IAT Max          30000 non-null int64\n",
      "Bwd IAT Min          30000 non-null int64\n",
      "Fwd PSH Flags        30000 non-null int64\n",
      "Bwd PSH Flags        30000 non-null int64\n",
      "Fwd URG Flags        30000 non-null int64\n",
      "Bwd URG Flags        30000 non-null int64\n",
      "Fwd Header Len       30000 non-null int64\n",
      "Bwd Header Len       30000 non-null int64\n",
      "Fwd Pkts/s           30000 non-null float64\n",
      "Bwd Pkts/s           30000 non-null float64\n",
      "Pkt Len Min          30000 non-null int64\n",
      "Pkt Len Max          30000 non-null int64\n",
      "Pkt Len Mean         30000 non-null float64\n",
      "Pkt Len Std          30000 non-null float64\n",
      "Pkt Len Var          30000 non-null float64\n",
      "FIN Flag Cnt         30000 non-null int64\n",
      "SYN Flag Cnt         30000 non-null int64\n",
      "RST Flag Cnt         30000 non-null int64\n",
      "PSH Flag Cnt         30000 non-null int64\n",
      "ACK Flag Cnt         30000 non-null int64\n",
      "URG Flag Cnt         30000 non-null int64\n",
      "CWE Flag Count       30000 non-null int64\n",
      "ECE Flag Cnt         30000 non-null int64\n",
      "Down/Up Ratio        30000 non-null int64\n",
      "Pkt Size Avg         30000 non-null float64\n",
      "Fwd Seg Size Avg     30000 non-null float64\n",
      "Bwd Seg Size Avg     30000 non-null float64\n",
      "Fwd Byts/b Avg       30000 non-null int64\n",
      "Fwd Pkts/b Avg       30000 non-null int64\n",
      "Fwd Blk Rate Avg     30000 non-null int64\n",
      "Bwd Byts/b Avg       30000 non-null int64\n",
      "Bwd Pkts/b Avg       30000 non-null int64\n",
      "Bwd Blk Rate Avg     30000 non-null int64\n",
      "Subflow Fwd Pkts     30000 non-null int64\n",
      "Subflow Fwd Byts     30000 non-null int64\n",
      "Subflow Bwd Pkts     30000 non-null int64\n",
      "Subflow Bwd Byts     30000 non-null int64\n",
      "Init Fwd Win Byts    30000 non-null int64\n",
      "Init Bwd Win Byts    30000 non-null int64\n",
      "Fwd Act Data Pkts    30000 non-null int64\n",
      "Fwd Seg Size Min     30000 non-null int64\n",
      "Active Mean          30000 non-null float64\n",
      "Active Std           30000 non-null float64\n",
      "Active Max           30000 non-null int64\n",
      "Active Min           30000 non-null int64\n",
      "Idle Mean            30000 non-null float64\n",
      "Idle Std             30000 non-null float64\n",
      "Idle Max             30000 non-null int64\n",
      "Idle Min             30000 non-null int64\n",
      "Protocol_0           30000 non-null int64\n",
      "Protocol_6           30000 non-null int64\n",
      "Protocol_17          30000 non-null int64\n",
      "dtypes: float64(24), int64(56)\n",
      "memory usage: 18.3 MB\n"
     ]
    }
   ],
   "source": [
    "Y = traindata.pop('Label')\n",
    "X = traindata.iloc[:,0:82]\n",
    "C = testdata.pop('Label')\n",
    "T = testdata.iloc[:,0:82]\n",
    "\n",
    "X.info(verbose=True)"
   ]
  },
  {
   "cell_type": "code",
   "execution_count": 62,
   "metadata": {
    "collapsed": true,
    "gather": {
     "logged": 1621538664256
    },
    "jupyter": {
     "outputs_hidden": false,
     "source_hidden": false
    },
    "nteract": {
     "transient": {
      "deleting": false
     }
    }
   },
   "outputs": [
    {
     "data": {
      "text/plain": [
       "array([0, 0, 0, ..., 1, 1, 1])"
      ]
     },
     "execution_count": 62,
     "metadata": {},
     "output_type": "execute_result"
    }
   ],
   "source": [
    "_traindata = np.array(X)\n",
    "_trainlabel = np.array(Y)\n",
    "_traindata = X.replace((np.inf, -np.inf, np.nan), 0).reset_index(drop=True)\n",
    "_testdata = np.array(T)\n",
    "_testlabel = np.array(C)\n",
    "_testdata = T.replace((np.inf, -np.inf, np.nan), 0).reset_index(drop=True)\n",
    "_trainlabel"
   ]
  },
  {
   "cell_type": "code",
   "execution_count": 67,
   "metadata": {
    "collapsed": true,
    "gather": {
     "logged": 1621538929377
    },
    "jupyter": {
     "outputs_hidden": false,
     "source_hidden": false
    },
    "nteract": {
     "transient": {
      "deleting": false
     }
    }
   },
   "outputs": [
    {
     "data": {
      "text/plain": [
       "Pipeline(memory=None,\n",
       "         steps=[('standardscaler',\n",
       "                 StandardScaler(copy=True, with_mean=True, with_std=True)),\n",
       "                ('svc',\n",
       "                 SVC(C=1.0, break_ties=False, cache_size=200, class_weight=None,\n",
       "                     coef0=0.0, decision_function_shape='ovr', degree=3,\n",
       "                     gamma='scale', kernel='rbf', max_iter=-1,\n",
       "                     probability=False, random_state=None, shrinking=True,\n",
       "                     tol=0.001, verbose=False))],\n",
       "         verbose=False)"
      ]
     },
     "execution_count": 67,
     "metadata": {},
     "output_type": "execute_result"
    }
   ],
   "source": [
    "from sklearn.pipeline import make_pipeline\n",
    "from sklearn.preprocessing import StandardScaler\n",
    "from sklearn.svm import SVC\n",
    "clfSVM = make_pipeline(StandardScaler(), SVC())\n",
    "clfSVM.fit(_traindata, _trainlabel)"
   ]
  },
  {
   "cell_type": "code",
   "execution_count": 68,
   "metadata": {
    "collapsed": true,
    "gather": {
     "logged": 1621538970198
    },
    "jupyter": {
     "outputs_hidden": false,
     "source_hidden": false
    },
    "nteract": {
     "transient": {
      "deleting": false
     }
    }
   },
   "outputs": [
    {
     "name": "stdout",
     "output_type": "stream",
     "text": [
      " Results\n",
      "======================\n",
      "Confusion Matrix:\n",
      "[[8571   46]\n",
      " [6071 5312]]\n",
      "Error Value:0.30584999999999996\n",
      "Accuracy_Score:0.69415\n",
      "\n"
     ]
    }
   ],
   "source": [
    "from sklearn.metrics import confusion_matrix, zero_one_loss, accuracy_score\n",
    "predSVM = clfSVM.predict(_testdata)\n",
    "results = confusion_matrix(_testlabel, predSVM)\n",
    "error = zero_one_loss(_testlabel, predSVM)\n",
    "accuracy_score = accuracy_score(_testlabel, predSVM)\n",
    "print(\" Results\\n======================\\nConfusion Matrix:\\n{}\\nError Value:{}\\nAccuracy_Score:{}\\n\".format(results, error, accuracy_score))"
   ]
  },
  {
   "cell_type": "code",
   "execution_count": 17,
   "metadata": {
    "collapsed": true,
    "jupyter": {
     "outputs_hidden": false,
     "source_hidden": false
    },
    "nteract": {
     "transient": {
      "deleting": false
     }
    }
   },
   "outputs": [
    {
     "name": "stdout",
     "output_type": "stream",
     "text": [
      "Selecting features with genetic algorithm.\n"
     ]
    }
   ],
   "source": [
    "from genetic_selection import GeneticSelectionCV\n",
    "from sklearn.model_selection import StratifiedKFold, GridSearchCV, RandomizedSearchCV\n",
    "from sklearn.svm import SVC\n",
    "from sklearn.model_selection import GridSearchCV\n",
    "\n",
    "\n",
    "cv = GeneticSelectionCV(estimator=SVC(),\n",
    "                                  cv=10,\n",
    "                                  verbose=1,\n",
    "                                  scoring=\"accuracy\",\n",
    "                                  max_features=20,\n",
    "                                  n_population=50,\n",
    "                                  crossover_proba=0.5,\n",
    "                                  mutation_proba=0.2,\n",
    "                                  n_generations=40,\n",
    "                                  crossover_independent_proba=0.5,\n",
    "                                  mutation_independent_proba=0.05,\n",
    "                                  tournament_size=3,\n",
    "                                  n_gen_no_change=10,\n",
    "                                  caching=True,\n",
    "                                  n_jobs=-1)\n",
    "\n",
    "print(cv.fit(_traindata, _trainlabel))\n",
    "from joblib import dump, load\n",
    "dump(cv, 'svm_genetic_intrusion_detection_binary_classification_30k.pkl')"
   ]
  },
  {
   "cell_type": "code",
   "execution_count": 63,
   "metadata": {
    "collapsed": true,
    "gather": {
     "logged": 1621538679424
    },
    "jupyter": {
     "outputs_hidden": false,
     "source_hidden": false
    },
    "nteract": {
     "transient": {
      "deleting": false
     }
    }
   },
   "outputs": [],
   "source": [
    "from joblib import dump, load\n",
    "clf2 = load(\"svm_genetic_intrusion_detection_binary_classification_30k.pkl\")"
   ]
  },
  {
   "cell_type": "code",
   "execution_count": 64,
   "metadata": {
    "collapsed": true,
    "gather": {
     "logged": 1621538685920
    },
    "jupyter": {
     "outputs_hidden": false,
     "source_hidden": false
    },
    "nteract": {
     "transient": {
      "deleting": false
     }
    }
   },
   "outputs": [
    {
     "data": {
      "text/plain": [
       "GeneticSelectionCV(caching=True, crossover_independent_proba=0.5,\n",
       "                   crossover_proba=0.5, cv=5,\n",
       "                   estimator=SVC(C=1.0, break_ties=False, cache_size=200,\n",
       "                                 class_weight=None, coef0=0.0,\n",
       "                                 decision_function_shape='ovr', degree=3,\n",
       "                                 gamma='scale', kernel='rbf', max_iter=-1,\n",
       "                                 probability=False, random_state=None,\n",
       "                                 shrinking=True, tol=0.001, verbose=False),\n",
       "                   fit_params=None, max_features=5,\n",
       "                   mutation_independent_proba=0.05, mutation_proba=0.2,\n",
       "                   n_gen_no_change=10, n_generations=40, n_jobs=-1,\n",
       "                   n_population=50, scoring='accuracy', tournament_size=3,\n",
       "                   verbose=1)"
      ]
     },
     "execution_count": 64,
     "metadata": {},
     "output_type": "execute_result"
    }
   ],
   "source": [
    "clf2"
   ]
  },
  {
   "cell_type": "code",
   "execution_count": 65,
   "metadata": {
    "collapsed": true,
    "gather": {
     "logged": 1621538725156
    },
    "jupyter": {
     "outputs_hidden": false,
     "source_hidden": false
    },
    "nteract": {
     "transient": {
      "deleting": false
     }
    }
   },
   "outputs": [
    {
     "name": "stdout",
     "output_type": "stream",
     "text": [
      "Chosen Feats:   ['Bwd Pkt Len Std', 'Init Fwd Win Byts']\n",
      "score 0.8005666666666666\n"
     ]
    }
   ],
   "source": [
    "genfeats = _traindata.columns[clf2.support_]\n",
    "genfeats = list(genfeats)\n",
    "print(\"Chosen Feats:  \", genfeats)\n",
    "#Le dernier score MCC (Matthews correlation coefficient) comme score final du modèle, qui est le meilleur\n",
    "cv_score = clf2.generation_scores_[-1]\n",
    "print(\"score\",cv_score) "
   ]
  },
  {
   "cell_type": "code",
   "execution_count": 71,
   "metadata": {
    "collapsed": true,
    "gather": {
     "logged": 1621539108547
    },
    "jupyter": {
     "outputs_hidden": false,
     "source_hidden": false
    },
    "nteract": {
     "transient": {
      "deleting": false
     }
    }
   },
   "outputs": [
    {
     "data": {
      "text/plain": [
       "0            9\n",
       "1           20\n",
       "2           22\n",
       "3           23\n",
       "4           25\n",
       "         ...  \n",
       "19995    99985\n",
       "19996    99987\n",
       "19997    99990\n",
       "19998    99993\n",
       "19999    99996\n",
       "Name: Unnamed: 0, Length: 20000, dtype: int64"
      ]
     },
     "execution_count": 71,
     "metadata": {},
     "output_type": "execute_result"
    }
   ],
   "source": [
    "traindata = pd.read_csv('preprocessed_train_DT_2018.csv')\n",
    "testdata = pd.read_csv('preprocessed_test_DT_2018.csv')\n",
    "traindata.pop(\"Unnamed: 0\")\n",
    "testdata.pop(\"Unnamed: 0\")"
   ]
  },
  {
   "cell_type": "code",
   "execution_count": 72,
   "metadata": {
    "collapsed": true,
    "gather": {
     "logged": 1621539123355
    },
    "jupyter": {
     "outputs_hidden": false,
     "source_hidden": false
    },
    "nteract": {
     "transient": {
      "deleting": false
     }
    }
   },
   "outputs": [],
   "source": [
    "Y = traindata.pop('Label')\n",
    "X = traindata.iloc[:,0:82]\n",
    "X = traindata[['Bwd Pkt Len Std', 'Init Fwd Win Byts']]\n",
    "C = testdata.pop('Label')\n",
    "T = testdata.iloc[:,0:82]\n",
    "T = testdata[['Bwd Pkt Len Std', 'Init Fwd Win Byts']]"
   ]
  },
  {
   "cell_type": "code",
   "execution_count": 73,
   "metadata": {
    "collapsed": true,
    "gather": {
     "logged": 1621539133389
    },
    "jupyter": {
     "outputs_hidden": false,
     "source_hidden": false
    },
    "nteract": {
     "transient": {
      "deleting": false
     }
    }
   },
   "outputs": [],
   "source": [
    "_traindata = np.array(X)\n",
    "_trainlabel = np.array(Y)\n",
    "_traindata = X.replace((np.inf, -np.inf, np.nan), 0).reset_index(drop=True)\n",
    "_testdata = np.array(T)\n",
    "_testlabel = np.array(C)\n",
    "_testdata = T.replace((np.inf, -np.inf, np.nan), 0).reset_index(drop=True)\n"
   ]
  },
  {
   "cell_type": "code",
   "execution_count": 75,
   "metadata": {
    "collapsed": true,
    "gather": {
     "logged": 1621539355325
    },
    "jupyter": {
     "outputs_hidden": false,
     "source_hidden": false
    },
    "nteract": {
     "transient": {
      "deleting": false
     }
    }
   },
   "outputs": [
    {
     "data": {
      "text/plain": [
       "Pipeline(memory=None,\n",
       "         steps=[('standardscaler',\n",
       "                 StandardScaler(copy=True, with_mean=True, with_std=True)),\n",
       "                ('svc',\n",
       "                 SVC(C=1.0, break_ties=False, cache_size=200, class_weight=None,\n",
       "                     coef0=0.0, decision_function_shape='ovr', degree=3,\n",
       "                     gamma='scale', kernel='rbf', max_iter=-1,\n",
       "                     probability=False, random_state=None, shrinking=True,\n",
       "                     tol=0.001, verbose=False))],\n",
       "         verbose=False)"
      ]
     },
     "execution_count": 75,
     "metadata": {},
     "output_type": "execute_result"
    }
   ],
   "source": [
    "from sklearn.pipeline import make_pipeline\n",
    "from sklearn.preprocessing import StandardScaler\n",
    "from sklearn.svm import SVC\n",
    "clfSVM = make_pipeline(StandardScaler(), SVC())\n",
    "clfSVM.fit(_traindata, _trainlabel)"
   ]
  },
  {
   "cell_type": "code",
   "execution_count": 76,
   "metadata": {
    "collapsed": true,
    "gather": {
     "logged": 1621539364290
    },
    "jupyter": {
     "outputs_hidden": false,
     "source_hidden": false
    },
    "nteract": {
     "transient": {
      "deleting": false
     }
    }
   },
   "outputs": [
    {
     "name": "stdout",
     "output_type": "stream",
     "text": [
      " Results\n",
      "======================\n",
      "Confusion Matrix:\n",
      "[[ 7996   621]\n",
      " [  591 10792]]\n",
      "Error Value:0.06059999999999999\n",
      "Accuracy_Score:0.9394\n",
      "\n"
     ]
    }
   ],
   "source": [
    "from sklearn.metrics import confusion_matrix, zero_one_loss, accuracy_score\n",
    "predSVM = clfSVM.predict(_testdata)\n",
    "results = confusion_matrix(_testlabel, predSVM)\n",
    "error = zero_one_loss(_testlabel, predSVM)\n",
    "accuracy_score = accuracy_score(_testlabel, predSVM)\n",
    "print(\" Results\\n======================\\nConfusion Matrix:\\n{}\\nError Value:{}\\nAccuracy_Score:{}\\n\".format(results, error, accuracy_score))"
   ]
  }
 ],
 "metadata": {
  "kernel_info": {
   "name": "python3"
  },
  "kernelspec": {
   "display_name": "Python 3",
   "language": "python",
   "name": "python3"
  },
  "language_info": {
   "codemirror_mode": {
    "name": "ipython",
    "version": 3
   },
   "file_extension": ".py",
   "mimetype": "text/x-python",
   "name": "python",
   "nbconvert_exporter": "python",
   "pygments_lexer": "ipython3",
   "version": "3.8.5"
  },
  "microsoft": {
   "host": {
    "AzureML": {
     "notebookHasBeenCompleted": true
    }
   }
  },
  "nteract": {
   "version": "nteract-front-end@1.0.0"
  }
 },
 "nbformat": 4,
 "nbformat_minor": 2
}
